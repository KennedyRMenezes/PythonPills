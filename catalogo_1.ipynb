{
 "cells": [
  {
   "cell_type": "code",
   "execution_count": 14,
   "metadata": {},
   "outputs": [],
   "source": [
    "import math\n",
    "import os\n",
    "import random\n",
    "import re\n",
    "import sys\n",
    "import collections"
   ]
  },
  {
   "cell_type": "markdown",
   "metadata": {},
   "source": [
    "#### Others"
   ]
  },
  {
   "cell_type": "markdown",
   "metadata": {},
   "source": [
    "##### Bitwise operators"
   ]
  },
  {
   "cell_type": "code",
   "execution_count": 1,
   "metadata": {},
   "outputs": [
    {
     "data": {
      "text/plain": [
       "4"
      ]
     },
     "execution_count": 1,
     "metadata": {},
     "output_type": "execute_result"
    }
   ],
   "source": [
    "# Shift logical left multiply the number.\n",
    "# 1 == 2 times\n",
    "# 2 == 4 times so on...\n",
    "2 << 1"
   ]
  },
  {
   "cell_type": "code",
   "execution_count": null,
   "metadata": {},
   "outputs": [],
   "source": []
  },
  {
   "cell_type": "code",
   "execution_count": 2,
   "metadata": {},
   "outputs": [
    {
     "data": {
      "text/plain": [
       "8"
      ]
     },
     "execution_count": 2,
     "metadata": {},
     "output_type": "execute_result"
    }
   ],
   "source": [
    "2 << 2"
   ]
  },
  {
   "cell_type": "markdown",
   "metadata": {},
   "source": [
    "##### Loops"
   ]
  },
  {
   "cell_type": "code",
   "execution_count": 3,
   "metadata": {},
   "outputs": [],
   "source": [
    "a_list = [1, 2, \"Three\", 4]"
   ]
  },
  {
   "cell_type": "code",
   "execution_count": 4,
   "metadata": {},
   "outputs": [
    {
     "name": "stdout",
     "output_type": "stream",
     "text": [
      "1\n",
      "2\n",
      "Three\n",
      "4\n"
     ]
    }
   ],
   "source": [
    "# Loop in list\n",
    "for a in a_list:\n",
    "    print(a)"
   ]
  },
  {
   "cell_type": "code",
   "execution_count": 5,
   "metadata": {},
   "outputs": [],
   "source": [
    "b_dic = {\"k1\": 1, \"k2\": 2, \"k3\": 3, \"k4\": \"Happy\", \"k5\": [1,2,3]}"
   ]
  },
  {
   "cell_type": "code",
   "execution_count": 6,
   "metadata": {},
   "outputs": [
    {
     "name": "stdout",
     "output_type": "stream",
     "text": [
      "Chave      | Valor      | Tipo      \n",
      "k1         | 1          | <class 'int'>\n",
      "k2         | 2          | <class 'int'>\n",
      "k3         | 3          | <class 'int'>\n",
      "k4         | Happy      | <class 'str'>\n",
      "k5         | [1, 2, 3]  | <class 'list'>\n"
     ]
    }
   ],
   "source": [
    "# Loop in dictionarie\n",
    "print(f'{\"Chave\".ljust(10)} | {\"Valor\".ljust(10)} | {\"Tipo\".ljust(10)}')\n",
    "for key, value in b_dic.items():\n",
    "    print(f'{str(key).ljust(10)} | {str(value).ljust(10)} | {str(type(value)).ljust(10)}')"
   ]
  },
  {
   "cell_type": "code",
   "execution_count": 7,
   "metadata": {},
   "outputs": [],
   "source": [
    "c_tup = (1, 5, 7, 23, 9, 5, 80, 12)"
   ]
  },
  {
   "cell_type": "code",
   "execution_count": 8,
   "metadata": {},
   "outputs": [
    {
     "name": "stdout",
     "output_type": "stream",
     "text": [
      "1\n",
      "5\n",
      "7\n",
      "23\n",
      "9\n",
      "5\n",
      "80\n",
      "12\n"
     ]
    }
   ],
   "source": [
    "# Loop in tuples\n",
    "for a in c_tup:\n",
    "    print(a)"
   ]
  },
  {
   "cell_type": "code",
   "execution_count": 9,
   "metadata": {},
   "outputs": [],
   "source": [
    "d_str = \"Ao verme que primeiro \""
   ]
  },
  {
   "cell_type": "code",
   "execution_count": 10,
   "metadata": {},
   "outputs": [
    {
     "name": "stdout",
     "output_type": "stream",
     "text": [
      "A\n",
      "o\n",
      " \n",
      "v\n",
      "e\n",
      "r\n",
      "m\n",
      "e\n",
      " \n",
      "q\n",
      "u\n",
      "e\n",
      " \n",
      "p\n",
      "r\n",
      "i\n",
      "m\n",
      "e\n",
      "i\n",
      "r\n",
      "o\n",
      " \n"
     ]
    }
   ],
   "source": [
    "# Loop in string\n",
    "for a in d_str:\n",
    "    print(a)"
   ]
  },
  {
   "cell_type": "markdown",
   "metadata": {},
   "source": [
    "Diferença absoluta da soma das diagonais de uma matriz"
   ]
  },
  {
   "cell_type": "code",
   "execution_count": null,
   "metadata": {},
   "outputs": [],
   "source": [
    "# My solution\n",
    "def diagonalDifference(arr):\n",
    "    n = len(arr[0])\n",
    "    \n",
    "    sum_primary = 0\n",
    "    sum_secondary = 0\n",
    "\n",
    "    control_secondary = n-1\n",
    "    \n",
    "    for i in range(n):\n",
    "        for j in range(n):\n",
    "            if i == j:\n",
    "                sum_primary = sum_primary + arr[i][j]\n",
    "            if j == control_secondary:\n",
    "                sum_secondary = sum_secondary + arr[i][j]\n",
    "                control_secondary = control_secondary - 1\n",
    "              \n",
    "    \n",
    "    return abs(sum_primary - sum_secondary)\n",
    "\n",
    "if __name__ == '__main__':\n",
    "    arr = [\n",
    "        [11, 2, 4],\n",
    "        [4, 5, 6],\n",
    "        [10, 8, -12]\n",
    "    ]\n",
    "\n",
    "    result = diagonalDifference(arr)\n",
    "\n",
    "    print(result)\n",
    "\n",
    "# More pythonic\n",
    "'''\n",
    "def diagonalDifference(arr):\n",
    "    n = len(arr)\n",
    "    sum_primary = sum(arr[i][i] for i in range(n))\n",
    "    sum_secondary = sum(arr[i][n - 1 - i] for i in range(n))\n",
    "    return abs(sum_primary - sum_secondary)\n",
    "'''"
   ]
  },
  {
   "cell_type": "markdown",
   "metadata": {},
   "source": [
    "Proportion of array"
   ]
  },
  {
   "cell_type": "code",
   "execution_count": 1,
   "metadata": {},
   "outputs": [
    {
     "name": "stdout",
     "output_type": "stream",
     "text": [
      "0.5\n",
      "0.333333\n",
      "0.166667\n"
     ]
    }
   ],
   "source": [
    "def plusMinus(arr):\n",
    "    \n",
    "    countPosNegZero = [\n",
    "      sum(1 for x in arr if x > 0),\n",
    "      sum(1 for x in arr if x < 0),\n",
    "      sum(1 for x in arr if x == 0)\n",
    "    ]\n",
    "\n",
    "    for i in countPosNegZero:\n",
    "        print((round((i/len(arr)), 6)))\n",
    "\n",
    "if __name__ == '__main__':\n",
    "\n",
    "    arr = [-4, 3, -9, 0, 4, 1]\n",
    "\n",
    "    plusMinus(arr)"
   ]
  },
  {
   "cell_type": "markdown",
   "metadata": {},
   "source": [
    "Staircase"
   ]
  },
  {
   "cell_type": "code",
   "execution_count": 2,
   "metadata": {},
   "outputs": [
    {
     "name": "stdout",
     "output_type": "stream",
     "text": [
      "     #\n",
      "    ##\n",
      "   ###\n",
      "  ####\n",
      " #####\n",
      "######\n"
     ]
    }
   ],
   "source": [
    "def staircase(n):\n",
    "    \n",
    "    for i in range(1, n+1):\n",
    "        print(f\"{' '*(n-i)}{'#'*i}\")\n",
    "\n",
    "n = 6\n",
    "\n",
    "staircase(n)"
   ]
  },
  {
   "cell_type": "code",
   "execution_count": 25,
   "metadata": {},
   "outputs": [
    {
     "name": "stdout",
     "output_type": "stream",
     "text": [
      "A menor soma é 10 com os valores [1, 2, 3, 4] \n",
      "A maior soma é 14 com os valores [2, 3, 4, 5]\n"
     ]
    }
   ],
   "source": [
    "def miniMaxSum(arr):\n",
    "    \n",
    "    sumAndValues = {}\n",
    "    orderedKeys = []\n",
    "    \n",
    "    #Faz somas e coloca como chave e os valores da soma como valores do dicionário\n",
    "    for i in arr:\n",
    "        arrCopy = arr.copy()\n",
    "        takeOut = arrCopy.remove(i)\n",
    "        sumOfItems = sum(arrCopy)\n",
    "        sumAndValues[sumOfItems] = arrCopy\n",
    "\n",
    "    #Orderna o dicionário para pegar a menor e a maior soma.\n",
    "    for key in sorted(sumAndValues):\n",
    "        orderedKeys.append((key, sumAndValues[key]))\n",
    "\n",
    "    print(f\"A menor soma é {orderedKeys[0][0]} com os valores {orderedKeys[0][1]} \\nA maior soma é {orderedKeys[-1][0]} com os valores {orderedKeys[-1][1]}\")\n",
    "\n",
    "if __name__ == '__main__':\n",
    "\n",
    "    arr = [1,2,3,4,5]\n",
    "\n",
    "    miniMaxSum(arr)"
   ]
  },
  {
   "cell_type": "markdown",
   "metadata": {},
   "source": [
    "Acha frequência de um elemento em um array."
   ]
  },
  {
   "cell_type": "code",
   "execution_count": 13,
   "metadata": {},
   "outputs": [
    {
     "name": "stdout",
     "output_type": "stream",
     "text": [
      "Maior frequencia é: 2 e o elemento que mais se repete é: 3\n"
     ]
    }
   ],
   "source": [
    "def birthdayCakeCandles(candles):\n",
    "    \n",
    "    arr_control = [0 for i in range(max(candles)+1)]\n",
    "\n",
    "    for i in candles:\n",
    "\n",
    "        arr_control[i] = arr_control[i] + 1\n",
    "\n",
    "    return arr_control\n",
    "\n",
    "arr = [3, 2, 1, 3]\n",
    "result = birthdayCakeCandles(arr)\n",
    "\n",
    "print(f\"Maior frequencia é: {max(result)} e o elemento que mais se repete é: {result.index(max(result))}\")"
   ]
  },
  {
   "cell_type": "code",
   "execution_count": null,
   "metadata": {},
   "outputs": [
    {
     "name": "stdout",
     "output_type": "stream",
     "text": [
      "00:01:45\n",
      "15:05:05\n",
      "12:37:13\n"
     ]
    }
   ],
   "source": [
    "# My solution\n",
    "def timeConversion(s):\n",
    "\n",
    "    dictToConvertion = {\"01\":\"13\", \"02\":\"14\", \"03\":\"15\", \"04\":\"16\", \"05\":\"17\", \"06\":\"18\", \"07\":\"19\", \"08\":\"20\", \"09\":\"21\", \"10\":\"22\", \"11\":\"23\", \"12\":\"00\"}\n",
    "    \n",
    "    getHour = s.split(\":\")\n",
    "    # print(getHour)\n",
    "\n",
    "    if \"AM\" in s:\n",
    "        if \"12\" in s:\n",
    "            timeFormatedToTwentyFour = s.replace(\"AM\", \"\") \\\n",
    "                                        .replace(str(getHour[0]), \n",
    "                                                 str(dictToConvertion[getHour[0]]))\n",
    "            return timeFormatedToTwentyFour\n",
    "        else:\n",
    "            return s.replace(\"AM\", \"\")\n",
    "    else:\n",
    "        if \"12\" in s:\n",
    "            return s.replace(\"PM\", \"\")\n",
    "        else:\n",
    "            timeFormatedToTwentyFour = s.replace(\"PM\", \"\") \\\n",
    "                                        .replace(str(getHour[0]), \n",
    "                                                str(dictToConvertion[getHour[0]]))\n",
    "            return timeFormatedToTwentyFour\n",
    "\n",
    "print(timeConversion(\"12:01:45AM\"), end=\"\\n\")\n",
    "print(timeConversion(\"03:05:05PM\"), end=\"\\n\")\n",
    "print(timeConversion(\"12:37:13PM\"), end=\"\\n\")\n",
    "\n",
    "#Better \n",
    "'''\n",
    "def timeConversion(s):\n",
    "    # Extraindo hora, minutos e segundos, e verificando se é AM ou PM\n",
    "    period = s[-2:]  # 'AM' ou 'PM'\n",
    "    hours, minutes, seconds = s[:-2].split(\":\")\n",
    "    \n",
    "    if period == \"AM\":\n",
    "        # Converte 12 AM para 00\n",
    "        if hours == \"12\":\n",
    "            hours = \"00\"\n",
    "    else:\n",
    "        # Converte PM (exceto 12 PM)\n",
    "        if hours != \"12\":\n",
    "            hours = str(int(hours) + 12)\n",
    "    \n",
    "    # Retorna o formato 24 horas\n",
    "    return f\"{hours}:{minutes}:{seconds}\"\n",
    "'''"
   ]
  },
  {
   "cell_type": "code",
   "execution_count": 11,
   "metadata": {},
   "outputs": [
    {
     "name": "stdout",
     "output_type": "stream",
     "text": [
      "[29, 85, 82]\n"
     ]
    }
   ],
   "source": [
    "'''\n",
    "• If the difference between the grade and the next multiple of 5 is less than 3, round grade up to the next multiple of 5 \n",
    "• If the value of grade is less than 38, no rounding occurs as the result will still be a failing grade.\n",
    "\n",
    "Examples\n",
    "•grade = 84 round to 85  (85-84 is less than 3)   [*1*]\n",
    "•grade = 29 do not round (result is less than 40) [*2*]\n",
    "•grade = 57 do not round (60 - 57 is 3 or higher) [*3*]\n",
    "'''\n",
    "\n",
    "def gradingStudents(grades):\n",
    "    \n",
    "    gradesProcessed = []\n",
    "    multiple = 5\n",
    "    \n",
    "    for g in grades:\n",
    "        \n",
    "        remainder = g%multiple\n",
    "        \n",
    "        if remainder < 3:\n",
    "            # DO NOT ALTER-[*3*]\n",
    "            gradesProcessed.append(g)\n",
    "        else:\n",
    "            \n",
    "            toAdd = multiple-remainder\n",
    "            newVal = g+toAdd\n",
    "\n",
    "            #     DO NOT ALTER-[*2*]                            DO ALTER-[*1*]\n",
    "            gradesProcessed.append(g) if newVal < 40 else gradesProcessed.append(newVal)\n",
    "    \n",
    "    return gradesProcessed\n",
    "\n",
    "result = gradingStudents([29, 84, 82])\n",
    "\n",
    "print(result)"
   ]
  },
  {
   "cell_type": "markdown",
   "metadata": {},
   "source": [
    "##### List Comprehension"
   ]
  },
  {
   "cell_type": "code",
   "execution_count": 11,
   "metadata": {},
   "outputs": [
    {
     "data": {
      "text/plain": [
       "[1, 3, 8, 12, 19, 32, 46, 64, 79, 100]"
      ]
     },
     "execution_count": 11,
     "metadata": {},
     "output_type": "execute_result"
    }
   ],
   "source": [
    "to_sum_vals = [1,2,5,4,7,13,14,18,15,21]\n",
    "\n",
    "added = [sum(to_sum_vals[0:i+1]) for i in range(len(to_sum_vals))]\n",
    "added"
   ]
  },
  {
   "cell_type": "code",
   "execution_count": 12,
   "metadata": {},
   "outputs": [
    {
     "data": {
      "text/plain": [
       "[0.047619047619047616,\n",
       " 0.09523809523809523,\n",
       " 0.23809523809523808,\n",
       " 0.19047619047619047,\n",
       " 0.3333333333333333,\n",
       " 0.6190476190476191,\n",
       " 0.6666666666666666,\n",
       " 0.8571428571428571,\n",
       " 0.7142857142857143,\n",
       " 1.0]"
      ]
     },
     "execution_count": 12,
     "metadata": {},
     "output_type": "execute_result"
    }
   ],
   "source": [
    "var = [i/max(to_sum_vals) for i in to_sum_vals]\n",
    "var"
   ]
  },
  {
   "cell_type": "markdown",
   "metadata": {},
   "source": [
    "##### *args"
   ]
  },
  {
   "cell_type": "code",
   "execution_count": 13,
   "metadata": {},
   "outputs": [
    {
     "name": "stdout",
     "output_type": "stream",
     "text": [
      "('Mario', 'Luigi')\n"
     ]
    }
   ],
   "source": [
    "# Example 1\n",
    "def hello(*people):\n",
    "    print(people)\n",
    "\n",
    "hello(\"Mario\", \"Luigi\")\n"
   ]
  },
  {
   "cell_type": "code",
   "execution_count": 14,
   "metadata": {},
   "outputs": [
    {
     "name": "stdout",
     "output_type": "stream",
     "text": [
      "Ciao, Mario\n",
      "Ciao, Luigi\n"
     ]
    }
   ],
   "source": [
    "# Example 2\n",
    "\n",
    "def greet_people(language: str, *people: str):\n",
    "    if language == 'it':\n",
    "        greeting = 'Ciao'\n",
    "    else:\n",
    "        greeting = 'Hello'\n",
    "\n",
    "    for people in people:\n",
    "        print(f'{greeting}, {people}')\n",
    "\n",
    "greet_people('it', 'Mario', 'Luigi')"
   ]
  },
  {
   "cell_type": "code",
   "execution_count": 15,
   "metadata": {},
   "outputs": [
    {
     "name": "stdout",
     "output_type": "stream",
     "text": [
      "15 is the sum\n"
     ]
    }
   ],
   "source": [
    "# Example 3\n",
    "\n",
    "def add_number(*numbers, text: str):\n",
    "    numbers = [number for number in numbers]\n",
    "    print(sum(numbers), text)\n",
    "\n",
    "add_number(1, 2, 3, 4, 5, text='is the sum')"
   ]
  },
  {
   "cell_type": "markdown",
   "metadata": {},
   "source": [
    "##### **kwargs (keyword arguments)"
   ]
  },
  {
   "cell_type": "code",
   "execution_count": 16,
   "metadata": {},
   "outputs": [
    {
     "name": "stdout",
     "output_type": "stream",
     "text": [
      "{'user1': 'Mario', 'user2': 'Kennedy'}\n",
      "Mario\n",
      "Kennedy\n"
     ]
    }
   ],
   "source": [
    "# Example 1\n",
    "def create_users(**users):\n",
    "    print(users)\n",
    "    for user in users.values():\n",
    "        print(user)\n",
    "\n",
    "create_users(user1=\"Mario\", user2=\"Kennedy\")"
   ]
  },
  {
   "cell_type": "code",
   "execution_count": 17,
   "metadata": {},
   "outputs": [
    {
     "ename": "TypeError",
     "evalue": "say_hello() got multiple values for argument 'name'",
     "output_type": "error",
     "traceback": [
      "\u001b[0;31m---------------------------------------------------------------------------\u001b[0m",
      "\u001b[0;31mTypeError\u001b[0m                                 Traceback (most recent call last)",
      "Cell \u001b[0;32mIn[17], line 5\u001b[0m\n\u001b[1;32m      2\u001b[0m \u001b[38;5;28;01mdef\u001b[39;00m \u001b[38;5;21msay_hello\u001b[39m(name: \u001b[38;5;28mstr\u001b[39m, \u001b[38;5;241m*\u001b[39m\u001b[38;5;241m*\u001b[39mpeople):\n\u001b[1;32m      3\u001b[0m     \u001b[38;5;28mprint\u001b[39m(\u001b[38;5;124mf\u001b[39m\u001b[38;5;124m'\u001b[39m\u001b[38;5;132;01m{\u001b[39;00mname\u001b[38;5;132;01m}\u001b[39;00m\u001b[38;5;124m says hello to \u001b[39m\u001b[38;5;132;01m{\u001b[39;00mpeople\u001b[38;5;132;01m}\u001b[39;00m\u001b[38;5;124m'\u001b[39m)\n\u001b[0;32m----> 5\u001b[0m \u001b[43msay_hello\u001b[49m\u001b[43m(\u001b[49m\u001b[38;5;124;43m'\u001b[39;49m\u001b[38;5;124;43mMario\u001b[39;49m\u001b[38;5;124;43m'\u001b[39;49m\u001b[43m,\u001b[49m\u001b[43m \u001b[49m\u001b[43mname\u001b[49m\u001b[38;5;241;43m=\u001b[39;49m\u001b[38;5;124;43m'\u001b[39;49m\u001b[38;5;124;43mLuigi\u001b[39;49m\u001b[38;5;124;43m'\u001b[39;49m\u001b[43m,\u001b[49m\u001b[43m \u001b[49m\u001b[43mname2\u001b[49m\u001b[38;5;241;43m=\u001b[39;49m\u001b[38;5;124;43m'\u001b[39;49m\u001b[38;5;124;43mKennedy\u001b[39;49m\u001b[38;5;124;43m'\u001b[39;49m\u001b[43m)\u001b[49m\n",
      "\u001b[0;31mTypeError\u001b[0m: say_hello() got multiple values for argument 'name'"
     ]
    }
   ],
   "source": [
    "# Example 2\n",
    "def say_hello(name: str, **people):\n",
    "    print(f'{name} says hello to {people}')\n",
    "\n",
    "say_hello('Mario', name='Luigi', name2='Kennedy')"
   ]
  },
  {
   "cell_type": "code",
   "execution_count": null,
   "metadata": {},
   "outputs": [],
   "source": [
    "# When put / all after this is treated as a nameless variable, then works withou error\n",
    "\n",
    "def say_hello(name: str, / ,**people):\n",
    "    print(f'{name} says hello to {people}')\n",
    "\n",
    "say_hello('Mario', name='Luigi', name2='Kennedy')"
   ]
  },
  {
   "cell_type": "markdown",
   "metadata": {},
   "source": [
    "------- **Force people don't use keywords** ---------"
   ]
  },
  {
   "cell_type": "code",
   "execution_count": null,
   "metadata": {},
   "outputs": [],
   "source": [
    "# Example 3\n",
    "def crate_team(name1, name2, /):\n",
    "    print(f'{name1} & {name2} are now a team!')\n",
    "\n",
    "crate_team('Mario', 'Luigi')"
   ]
  },
  {
   "cell_type": "code",
   "execution_count": null,
   "metadata": {},
   "outputs": [],
   "source": [
    "#Only arguments without keywods\n",
    "def crate_team(name1, name2, /):\n",
    "    print(f'{name1} & {name2} are now a team!')\n",
    "\n",
    "crate_team('Mario', user1='Luigi')"
   ]
  },
  {
   "cell_type": "markdown",
   "metadata": {},
   "source": [
    "------- **Force people *use* keywords** ---------"
   ]
  },
  {
   "cell_type": "code",
   "execution_count": null,
   "metadata": {},
   "outputs": [],
   "source": [
    "def create_team2(*, name1, name2):\n",
    "    print(f'{name1} & {name2} are now a team!')\n",
    "\n",
    "create_team2(name1='Mario', name2='Luigi')"
   ]
  },
  {
   "cell_type": "code",
   "execution_count": null,
   "metadata": {},
   "outputs": [],
   "source": [
    "def create_team2(*, name1, name2):\n",
    "    print(f'{name1} & {name2} are now a team!')\n",
    "\n",
    "create_team2('Mario', 'Luigi')"
   ]
  },
  {
   "cell_type": "markdown",
   "metadata": {},
   "source": [
    "##### Type Annotation"
   ]
  },
  {
   "cell_type": "code",
   "execution_count": null,
   "metadata": {},
   "outputs": [],
   "source": [
    "number: int =  10"
   ]
  },
  {
   "cell_type": "markdown",
   "metadata": {},
   "source": [
    "##### Yield"
   ]
  },
  {
   "cell_type": "code",
   "execution_count": null,
   "metadata": {},
   "outputs": [],
   "source": [
    "#Example\n",
    "def generator():\n",
    "    yield 1\n",
    "    yield 2\n",
    "    yield 3\n",
    "\n",
    "gen = generator()\n",
    "\n",
    "print(next(gen))"
   ]
  },
  {
   "cell_type": "code",
   "execution_count": null,
   "metadata": {},
   "outputs": [],
   "source": [
    "print(next(gen))"
   ]
  },
  {
   "cell_type": "code",
   "execution_count": null,
   "metadata": {},
   "outputs": [],
   "source": [
    "def generator_2():\n",
    "    yield from [\"Hi\", 2, \"World\", 4, 5]\n",
    "\n",
    "gen_2 = generator_2()\n",
    "\n",
    "print(next(gen_2))\n",
    "print(next(gen_2))\n",
    "print(next(gen_2))"
   ]
  },
  {
   "cell_type": "code",
   "execution_count": null,
   "metadata": {},
   "outputs": [],
   "source": [
    "def other_generator():\n",
    "    yield \"Hello\"\n",
    "\n",
    "    yield from generator_2()\n",
    "\n",
    "    yield \"Bye\"\n",
    "\n",
    "gen_3 = other_generator()\n",
    "\n",
    "print(next(gen_3))\n",
    "print(next(gen_3))\n",
    "print(next(gen_3))\n",
    "print(next(gen_3))\n",
    "print(next(gen_3))"
   ]
  },
  {
   "cell_type": "markdown",
   "metadata": {},
   "source": [
    "##### map()"
   ]
  },
  {
   "cell_type": "code",
   "execution_count": null,
   "metadata": {},
   "outputs": [],
   "source": [
    "def power_two(n):\n",
    "    return n ** 2\n",
    "\n",
    "numbers = [1, 4, 7, 12, 54, 43]\n",
    "num_after_pow = list(map(power_two, numbers))\n",
    "print(num_after_pow)"
   ]
  },
  {
   "cell_type": "markdown",
   "metadata": {},
   "source": [
    "##### filter()"
   ]
  },
  {
   "cell_type": "code",
   "execution_count": null,
   "metadata": {},
   "outputs": [],
   "source": [
    "def even(n):\n",
    "    if n % 2 == 0:\n",
    "        return n\n",
    "\n",
    "numbers = [1, 4, 7, 12, 54, 43]\n",
    "num_after_even = list(filter(even, numbers))\n",
    "print(num_after_even)"
   ]
  },
  {
   "cell_type": "markdown",
   "metadata": {},
   "source": [
    "##### Match"
   ]
  },
  {
   "cell_type": "code",
   "execution_count": null,
   "metadata": {},
   "outputs": [],
   "source": [
    "name = input(\"What's your name? \")\n",
    "\n",
    "match name:\n",
    "    case \"Harry\":\n",
    "        print(\"Gryffindor\")\n",
    "    case \"Hermione\":\n",
    "        print(\"Gryffindor\")\n",
    "    case \"Ron\":\n",
    "        print(\"Gryffindor\")\n",
    "    case \"Draco\":\n",
    "        print(\"Slytherin\")\n",
    "    case _:\n",
    "        print(\"Who?\")"
   ]
  },
  {
   "cell_type": "code",
   "execution_count": null,
   "metadata": {},
   "outputs": [],
   "source": [
    "name = input(\"What's your name? \")\n",
    "\n",
    "match name:\n",
    "    case \"Harry\" | \"Hermione\" | \"Ron\":\n",
    "        print(\"Gryffindor\")\n",
    "    case \"Draco\":\n",
    "        print(\"Slytherin\")\n",
    "    case _:\n",
    "        print(\"Who?\")"
   ]
  },
  {
   "cell_type": "markdown",
   "metadata": {},
   "source": [
    "##### np.argsort()"
   ]
  },
  {
   "cell_type": "code",
   "execution_count": 19,
   "metadata": {},
   "outputs": [],
   "source": [
    "import numpy as np"
   ]
  },
  {
   "cell_type": "code",
   "execution_count": 66,
   "metadata": {},
   "outputs": [
    {
     "name": "stdout",
     "output_type": "stream",
     "text": [
      "[3 5 7]\n",
      "[ 76  91 120]\n"
     ]
    }
   ],
   "source": [
    "# Array original\n",
    "array = np.array([12, 54, 1, 76, 3, 91, 44, 120])\n",
    "\n",
    "# Obter os índices dos três maiores valores\n",
    "indices_maiores = np.argsort(array)[-3:]\n",
    "print(indices_maiores)\n",
    "\n",
    "# Obter os três maiores valores usando esses índices\n",
    "maiores_valores = array[indices_maiores]\n",
    "print(maiores_valores)"
   ]
  },
  {
   "cell_type": "code",
   "execution_count": 2,
   "metadata": {},
   "outputs": [
    {
     "data": {
      "image/png": "[encoded data removed]",
      "text/plain": [
       "<Figure size 1000x600 with 1 Axes>"
      ]
     },
     "metadata": {},
     "output_type": "display_data"
    }
   ],
   "source": [
    "import matplotlib.pyplot as plt\n",
    "\n",
    "# Dados em segundos e milissegundos\n",
    "tempos_cpu_segundos = [0.003804, 0.003609, 0.003818, 0.003542, 0.004115, \n",
    "                       0.003808, 0.004023, 0.003658, 0.003700, 0.003955]\n",
    "\n",
    "tempos_gpu_milissegundos = [0.000029, 0.000029, 0.000033, 0.000123, 0.000067, \n",
    "                            0.000034, 0.000095, 0.000042, 0.000029, 0.000054]\n",
    "\n",
    "# Converter tempos CPU para milissegundos\n",
    "tempos_cpu_milissegundos = [t * 1000 for t in tempos_cpu_segundos]\n",
    "\n",
    "# Criar gráfico\n",
    "plt.figure(figsize=(10, 6))\n",
    "plt.plot(range(1, 11), tempos_cpu_milissegundos, label='CPU (ms)', marker='o')\n",
    "plt.plot(range(1, 11), tempos_gpu_milissegundos, label='GPU (ms)', marker='o')\n",
    "\n",
    "# Configurações do gráfico\n",
    "plt.title('Comparação de Tempos: CPU vs GPU')\n",
    "plt.xlabel('Execuções')\n",
    "plt.ylabel('Tempo (ms)')\n",
    "plt.legend()\n",
    "plt.grid()\n",
    "plt.xticks(range(1, 11))\n",
    "plt.tight_layout()\n",
    "\n",
    "# Exibir gráfico\n",
    "plt.show()\n"
   ]
  },
  {
   "cell_type": "code",
   "execution_count": 3,
   "metadata": {},
   "outputs": [
    {
     "data": {
      "image/png": "[encoded data removed]",
      "text/plain": [
       "<Figure size 1000x600 with 1 Axes>"
      ]
     },
     "metadata": {},
     "output_type": "display_data"
    }
   ],
   "source": [
    "import matplotlib.pyplot as plt\n",
    "\n",
    "# Dados em segundos e milissegundos\n",
    "tempos_cpu_segundos = [0.003804, 0.003609, 0.003818, 0.003542, 0.004115, \n",
    "                       0.003808, 0.004023, 0.003658, 0.003700, 0.003955]\n",
    "\n",
    "tempos_gpu_milissegundos = [0.000029, 0.000029, 0.000033, 0.000123, 0.000067, \n",
    "                            0.000034, 0.000095, 0.000042, 0.000029, 0.000054]\n",
    "\n",
    "# Converter tempos CPU para milissegundos\n",
    "tempos_cpu_milissegundos = [t * 1000 for t in tempos_cpu_segundos]\n",
    "\n",
    "# Criar gráfico com escala logarítmica\n",
    "plt.figure(figsize=(10, 6))\n",
    "plt.plot(range(1, 11), tempos_cpu_milissegundos, label='CPU (ms)', marker='o')\n",
    "plt.plot(range(1, 11), tempos_gpu_milissegundos, label='GPU (ms)', marker='o')\n",
    "\n",
    "# Configurações do gráfico\n",
    "plt.yscale('log')  # Define a escala logarítmica no eixo Y\n",
    "plt.title('Comparação de Tempos: CPU vs GPU (Escala Logarítmica)')\n",
    "plt.xlabel('Execuções')\n",
    "plt.ylabel('Tempo (ms)')\n",
    "plt.legend()\n",
    "plt.grid(which='both', linestyle='--', linewidth=0.5)  # Grid para escala log\n",
    "plt.xticks(range(1, 11))\n",
    "plt.tight_layout()\n",
    "\n",
    "# Exibir gráfico\n",
    "plt.show()\n"
   ]
  },
  {
   "cell_type": "code",
   "execution_count": null,
   "metadata": {},
   "outputs": [],
   "source": []
  },
  {
   "cell_type": "code",
   "execution_count": 10,
   "metadata": {},
   "outputs": [
    {
     "data": {
      "text/plain": [
       "'0.0000535000'"
      ]
     },
     "execution_count": 10,
     "metadata": {},
     "output_type": "execute_result"
    }
   ],
   "source": [
    "import numpy as np\n",
    "\n",
    "\"{:.10f}\".format(np.mean(tempos_gpu_milissegundos))"
   ]
  },
  {
   "cell_type": "code",
   "execution_count": 11,
   "metadata": {},
   "outputs": [
    {
     "data": {
      "text/plain": [
       "'3.8032000000'"
      ]
     },
     "execution_count": 11,
     "metadata": {},
     "output_type": "execute_result"
    }
   ],
   "source": [
    "\"{:.10f}\".format(np.mean(tempos_cpu_milissegundos))"
   ]
  },
  {
   "cell_type": "code",
   "execution_count": null,
   "metadata": {},
   "outputs": [],
   "source": []
  }
 ],
 "metadata": {
  "kernelspec": {
   "display_name": "venv",
   "language": "python",
   "name": "python3"
  },
  "language_info": {
   "codemirror_mode": {
    "name": "ipython",
    "version": 3
   },
   "file_extension": ".py",
   "mimetype": "text/x-python",
   "name": "python",
   "nbconvert_exporter": "python",
   "pygments_lexer": "ipython3",
   "version": "3.10.12"
  }
 },
 "nbformat": 4,
 "nbformat_minor": 2
}
