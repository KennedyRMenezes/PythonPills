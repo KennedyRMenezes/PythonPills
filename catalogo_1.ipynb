{
 "cells": [
  {
   "cell_type": "code",
   "execution_count": 14,
   "metadata": {},
   "outputs": [],
   "source": [
    "import math\n",
    "import os\n",
    "import random\n",
    "import re\n",
    "import sys\n",
    "import collections"
   ]
  },
  {
   "cell_type": "markdown",
   "metadata": {},
   "source": [
    "##### *args"
   ]
  },
  {
   "cell_type": "code",
   "execution_count": 13,
   "metadata": {},
   "outputs": [
    {
     "name": "stdout",
     "output_type": "stream",
     "text": [
      "('Mario', 'Luigi')\n"
     ]
    }
   ],
   "source": [
    "# Example 1\n",
    "def hello(*people):\n",
    "    print(people)\n",
    "\n",
    "hello(\"Mario\", \"Luigi\")\n"
   ]
  },
  {
   "cell_type": "code",
   "execution_count": 14,
   "metadata": {},
   "outputs": [
    {
     "name": "stdout",
     "output_type": "stream",
     "text": [
      "Ciao, Mario\n",
      "Ciao, Luigi\n"
     ]
    }
   ],
   "source": [
    "# Example 2\n",
    "\n",
    "def greet_people(language: str, *people: str):\n",
    "    if language == 'it':\n",
    "        greeting = 'Ciao'\n",
    "    else:\n",
    "        greeting = 'Hello'\n",
    "\n",
    "    for people in people:\n",
    "        print(f'{greeting}, {people}')\n",
    "\n",
    "greet_people('it', 'Mario', 'Luigi')"
   ]
  },
  {
   "cell_type": "code",
   "execution_count": 15,
   "metadata": {},
   "outputs": [
    {
     "name": "stdout",
     "output_type": "stream",
     "text": [
      "15 is the sum\n"
     ]
    }
   ],
   "source": [
    "# Example 3\n",
    "\n",
    "def add_number(*numbers, text: str):\n",
    "    numbers = [number for number in numbers]\n",
    "    print(sum(numbers), text)\n",
    "\n",
    "add_number(1, 2, 3, 4, 5, text='is the sum')"
   ]
  },
  {
   "cell_type": "markdown",
   "metadata": {},
   "source": [
    "##### **kwargs (keyword arguments)"
   ]
  },
  {
   "cell_type": "code",
   "execution_count": 16,
   "metadata": {},
   "outputs": [
    {
     "name": "stdout",
     "output_type": "stream",
     "text": [
      "{'user1': 'Mario', 'user2': 'Kennedy'}\n",
      "Mario\n",
      "Kennedy\n"
     ]
    }
   ],
   "source": [
    "# Example 1\n",
    "def create_users(**users):\n",
    "    print(users)\n",
    "    for user in users.values():\n",
    "        print(user)\n",
    "\n",
    "create_users(user1=\"Mario\", user2=\"Kennedy\")"
   ]
  },
  {
   "cell_type": "code",
   "execution_count": 17,
   "metadata": {},
   "outputs": [
    {
     "ename": "TypeError",
     "evalue": "say_hello() got multiple values for argument 'name'",
     "output_type": "error",
     "traceback": [
      "\u001b[0;31m---------------------------------------------------------------------------\u001b[0m",
      "\u001b[0;31mTypeError\u001b[0m                                 Traceback (most recent call last)",
      "Cell \u001b[0;32mIn[17], line 5\u001b[0m\n\u001b[1;32m      2\u001b[0m \u001b[38;5;28;01mdef\u001b[39;00m \u001b[38;5;21msay_hello\u001b[39m(name: \u001b[38;5;28mstr\u001b[39m, \u001b[38;5;241m*\u001b[39m\u001b[38;5;241m*\u001b[39mpeople):\n\u001b[1;32m      3\u001b[0m     \u001b[38;5;28mprint\u001b[39m(\u001b[38;5;124mf\u001b[39m\u001b[38;5;124m'\u001b[39m\u001b[38;5;132;01m{\u001b[39;00mname\u001b[38;5;132;01m}\u001b[39;00m\u001b[38;5;124m says hello to \u001b[39m\u001b[38;5;132;01m{\u001b[39;00mpeople\u001b[38;5;132;01m}\u001b[39;00m\u001b[38;5;124m'\u001b[39m)\n\u001b[0;32m----> 5\u001b[0m \u001b[43msay_hello\u001b[49m\u001b[43m(\u001b[49m\u001b[38;5;124;43m'\u001b[39;49m\u001b[38;5;124;43mMario\u001b[39;49m\u001b[38;5;124;43m'\u001b[39;49m\u001b[43m,\u001b[49m\u001b[43m \u001b[49m\u001b[43mname\u001b[49m\u001b[38;5;241;43m=\u001b[39;49m\u001b[38;5;124;43m'\u001b[39;49m\u001b[38;5;124;43mLuigi\u001b[39;49m\u001b[38;5;124;43m'\u001b[39;49m\u001b[43m,\u001b[49m\u001b[43m \u001b[49m\u001b[43mname2\u001b[49m\u001b[38;5;241;43m=\u001b[39;49m\u001b[38;5;124;43m'\u001b[39;49m\u001b[38;5;124;43mKennedy\u001b[39;49m\u001b[38;5;124;43m'\u001b[39;49m\u001b[43m)\u001b[49m\n",
      "\u001b[0;31mTypeError\u001b[0m: say_hello() got multiple values for argument 'name'"
     ]
    }
   ],
   "source": [
    "# Example 2\n",
    "def say_hello(name: str, **people):\n",
    "    print(f'{name} says hello to {people}')\n",
    "\n",
    "say_hello('Mario', name='Luigi', name2='Kennedy')"
   ]
  },
  {
   "cell_type": "code",
   "execution_count": null,
   "metadata": {},
   "outputs": [],
   "source": [
    "# When put / all after this is treated as a nameless variable, then works withou error\n",
    "\n",
    "def say_hello(name: str, / ,**people):\n",
    "    print(f'{name} says hello to {people}')\n",
    "\n",
    "say_hello('Mario', name='Luigi', name2='Kennedy')"
   ]
  },
  {
   "cell_type": "markdown",
   "metadata": {},
   "source": [
    "------- **Force people don't use keywords** ---------"
   ]
  },
  {
   "cell_type": "code",
   "execution_count": null,
   "metadata": {},
   "outputs": [],
   "source": [
    "# Example 3\n",
    "def crate_team(name1, name2, /):\n",
    "    print(f'{name1} & {name2} are now a team!')\n",
    "\n",
    "crate_team('Mario', 'Luigi')"
   ]
  },
  {
   "cell_type": "code",
   "execution_count": null,
   "metadata": {},
   "outputs": [],
   "source": [
    "#Only arguments without keywods\n",
    "def crate_team(name1, name2, /):\n",
    "    print(f'{name1} & {name2} are now a team!')\n",
    "\n",
    "crate_team('Mario', user1='Luigi')"
   ]
  },
  {
   "cell_type": "markdown",
   "metadata": {},
   "source": [
    "------- **Force people *use* keywords** ---------"
   ]
  },
  {
   "cell_type": "code",
   "execution_count": null,
   "metadata": {},
   "outputs": [],
   "source": [
    "def create_team2(*, name1, name2):\n",
    "    print(f'{name1} & {name2} are now a team!')\n",
    "\n",
    "create_team2(name1='Mario', name2='Luigi')"
   ]
  },
  {
   "cell_type": "code",
   "execution_count": null,
   "metadata": {},
   "outputs": [],
   "source": [
    "def create_team2(*, name1, name2):\n",
    "    print(f'{name1} & {name2} are now a team!')\n",
    "\n",
    "create_team2('Mario', 'Luigi')"
   ]
  },
  {
   "cell_type": "markdown",
   "metadata": {},
   "source": [
    "##### Type Annotation"
   ]
  },
  {
   "cell_type": "code",
   "execution_count": null,
   "metadata": {},
   "outputs": [],
   "source": [
    "number: int =  10"
   ]
  },
  {
   "cell_type": "markdown",
   "metadata": {},
   "source": [
    "##### Yield"
   ]
  },
  {
   "cell_type": "code",
   "execution_count": null,
   "metadata": {},
   "outputs": [],
   "source": [
    "#Example\n",
    "def generator():\n",
    "    yield 1\n",
    "    yield 2\n",
    "    yield 3\n",
    "\n",
    "gen = generator()\n",
    "\n",
    "print(next(gen))"
   ]
  },
  {
   "cell_type": "code",
   "execution_count": null,
   "metadata": {},
   "outputs": [],
   "source": [
    "print(next(gen))"
   ]
  },
  {
   "cell_type": "code",
   "execution_count": null,
   "metadata": {},
   "outputs": [],
   "source": [
    "def generator_2():\n",
    "    yield from [\"Hi\", 2, \"World\", 4, 5]\n",
    "\n",
    "gen_2 = generator_2()\n",
    "\n",
    "print(next(gen_2))\n",
    "print(next(gen_2))\n",
    "print(next(gen_2))"
   ]
  },
  {
   "cell_type": "code",
   "execution_count": null,
   "metadata": {},
   "outputs": [],
   "source": [
    "def other_generator():\n",
    "    yield \"Hello\"\n",
    "\n",
    "    yield from generator_2()\n",
    "\n",
    "    yield \"Bye\"\n",
    "\n",
    "gen_3 = other_generator()\n",
    "\n",
    "print(next(gen_3))\n",
    "print(next(gen_3))\n",
    "print(next(gen_3))\n",
    "print(next(gen_3))\n",
    "print(next(gen_3))"
   ]
  },
  {
   "cell_type": "markdown",
   "metadata": {},
   "source": [
    "##### map()"
   ]
  },
  {
   "cell_type": "code",
   "execution_count": null,
   "metadata": {},
   "outputs": [],
   "source": [
    "def power_two(n):\n",
    "    return n ** 2\n",
    "\n",
    "numbers = [1, 4, 7, 12, 54, 43]\n",
    "num_after_pow = list(map(power_two, numbers))\n",
    "print(num_after_pow)"
   ]
  },
  {
   "cell_type": "markdown",
   "metadata": {},
   "source": [
    "##### filter()"
   ]
  },
  {
   "cell_type": "code",
   "execution_count": null,
   "metadata": {},
   "outputs": [],
   "source": [
    "def even(n):\n",
    "    if n % 2 == 0:\n",
    "        return n\n",
    "\n",
    "numbers = [1, 4, 7, 12, 54, 43]\n",
    "num_after_even = list(filter(even, numbers))\n",
    "print(num_after_even)"
   ]
  },
  {
   "cell_type": "markdown",
   "metadata": {},
   "source": [
    "##### Match"
   ]
  },
  {
   "cell_type": "code",
   "execution_count": null,
   "metadata": {},
   "outputs": [],
   "source": [
    "name = input(\"What's your name? \")\n",
    "\n",
    "match name:\n",
    "    case \"Harry\":\n",
    "        print(\"Gryffindor\")\n",
    "    case \"Hermione\":\n",
    "        print(\"Gryffindor\")\n",
    "    case \"Ron\":\n",
    "        print(\"Gryffindor\")\n",
    "    case \"Draco\":\n",
    "        print(\"Slytherin\")\n",
    "    case _:\n",
    "        print(\"Who?\")"
   ]
  },
  {
   "cell_type": "code",
   "execution_count": null,
   "metadata": {},
   "outputs": [],
   "source": [
    "name = input(\"What's your name? \")\n",
    "\n",
    "match name:\n",
    "    case \"Harry\" | \"Hermione\" | \"Ron\":\n",
    "        print(\"Gryffindor\")\n",
    "    case \"Draco\":\n",
    "        print(\"Slytherin\")\n",
    "    case _:\n",
    "        print(\"Who?\")"
   ]
  },
  {
   "cell_type": "markdown",
   "metadata": {},
   "source": [
    "##### np.argsort()"
   ]
  },
  {
   "cell_type": "code",
   "execution_count": 19,
   "metadata": {},
   "outputs": [],
   "source": [
    "import numpy as np"
   ]
  },
  {
   "cell_type": "code",
   "execution_count": 66,
   "metadata": {},
   "outputs": [
    {
     "name": "stdout",
     "output_type": "stream",
     "text": [
      "[3 5 7]\n",
      "[ 76  91 120]\n"
     ]
    }
   ],
   "source": [
    "# Array original\n",
    "array = np.array([12, 54, 1, 76, 3, 91, 44, 120])\n",
    "\n",
    "# Obter os índices dos três maiores valores\n",
    "indices_maiores = np.argsort(array)[-3:]\n",
    "print(indices_maiores)\n",
    "\n",
    "# Obter os três maiores valores usando esses índices\n",
    "maiores_valores = array[indices_maiores]\n",
    "print(maiores_valores)"
   ]
  }
 ],
 "metadata": {
  "kernelspec": {
   "display_name": "Python 3",
   "language": "python",
   "name": "python3"
  },
  "language_info": {
   "codemirror_mode": {
    "name": "ipython",
    "version": 3
   },
   "file_extension": ".py",
   "mimetype": "text/x-python",
   "name": "python",
   "nbconvert_exporter": "python",
   "pygments_lexer": "ipython3",
   "version": "3.10.12"
  }
 },
 "nbformat": 4,
 "nbformat_minor": 2
}
