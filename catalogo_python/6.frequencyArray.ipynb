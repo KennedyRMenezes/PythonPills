{
 "cells": [
  {
   "cell_type": "markdown",
   "id": "f6778fda",
   "metadata": {},
   "source": [
    "Acha frequência de um elemento em um array."
   ]
  },
  {
   "cell_type": "code",
   "execution_count": null,
   "id": "c2c30067",
   "metadata": {},
   "outputs": [
    {
     "name": "stdout",
     "output_type": "stream",
     "text": [
      "Maior frequencia é: 2 e o elemento que mais se repete é: 3\n"
     ]
    }
   ],
   "source": [
    "def birthdayCakeCandles(candles):\n",
    "    \n",
    "    arr_control = [0 for i in range(max(candles)+1)]\n",
    "\n",
    "    for i in candles:\n",
    "\n",
    "        arr_control[i] = arr_control[i] + 1\n",
    "\n",
    "    return arr_control\n",
    "\n",
    "arr = [3, 2, 1, 3]\n",
    "result = birthdayCakeCandles(arr)\n",
    "\n",
    "print(f\"Maior frequencia é: {max(result)} e o elemento que mais se repete é: {result.index(max(result))}\")"
   ]
  }
 ],
 "metadata": {
  "language_info": {
   "name": "python"
  }
 },
 "nbformat": 4,
 "nbformat_minor": 5
}
