{
 "cells": [
  {
   "cell_type": "markdown",
   "id": "15fdbfff",
   "metadata": {},
   "source": [
    "Staircase"
   ]
  },
  {
   "cell_type": "code",
   "execution_count": null,
   "id": "a152fb5c",
   "metadata": {},
   "outputs": [
    {
     "name": "stdout",
     "output_type": "stream",
     "text": [
      "     #\n",
      "    ##\n",
      "   ###\n",
      "  ####\n",
      " #####\n",
      "######\n"
     ]
    }
   ],
   "source": [
    "def staircase(n):\n",
    "    \n",
    "    for i in range(1, n+1):\n",
    "        print(f\"{' '*(n-i)}{'#'*i}\")\n",
    "\n",
    "n = 6\n",
    "\n",
    "staircase(n)"
   ]
  }
 ],
 "metadata": {
  "language_info": {
   "name": "python"
  }
 },
 "nbformat": 4,
 "nbformat_minor": 5
}
