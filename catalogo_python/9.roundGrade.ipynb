{
 "cells": [
  {
   "cell_type": "code",
   "execution_count": null,
   "id": "605c50c6",
   "metadata": {},
   "outputs": [
    {
     "name": "stdout",
     "output_type": "stream",
     "text": [
      "[29, 85, 82]\n"
     ]
    }
   ],
   "source": [
    "'''\n",
    "• If the difference between the grade and the next multiple of 5 is less than 3, round grade up to the next multiple of 5 \n",
    "• If the value of grade is less than 38, no rounding occurs as the result will still be a failing grade.\n",
    "\n",
    "Examples\n",
    "•grade = 84 round to 85  (85-84 is less than 3)   [*1*]\n",
    "•grade = 29 do not round (result is less than 40) [*2*]\n",
    "•grade = 57 do not round (60 - 57 is 3 or higher) [*3*]\n",
    "'''\n",
    "\n",
    "def gradingStudents(grades):\n",
    "    \n",
    "    gradesProcessed = []\n",
    "    multiple = 5\n",
    "    \n",
    "    for g in grades:\n",
    "        \n",
    "        remainder = g%multiple\n",
    "        \n",
    "        if remainder < 3:\n",
    "            # DO NOT ALTER-[*3*]\n",
    "            gradesProcessed.append(g)\n",
    "        else:\n",
    "            \n",
    "            toAdd = multiple-remainder\n",
    "            newVal = g+toAdd\n",
    "\n",
    "            #     DO NOT ALTER-[*2*]                            DO ALTER-[*1*]\n",
    "            gradesProcessed.append(g) if newVal < 40 else gradesProcessed.append(newVal)\n",
    "    \n",
    "    return gradesProcessed\n",
    "\n",
    "result = gradingStudents([29, 84, 82])\n",
    "\n",
    "print(result)"
   ]
  }
 ],
 "metadata": {
  "language_info": {
   "name": "python"
  }
 },
 "nbformat": 4,
 "nbformat_minor": 5
}
