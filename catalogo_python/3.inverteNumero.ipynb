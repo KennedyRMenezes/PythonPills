{
 "cells": [
  {
   "cell_type": "code",
   "execution_count": null,
   "metadata": {},
   "outputs": [],
   "source": [
    "# Referência do Problema\n",
    "# https://github.com/Dorettto/EstudosJAVA/commit/5da6f8030f4c34ee4afcc385f43ae9ac3ad89d7b\n",
    "\n",
    "numero = int(input(\"Insira um numero: \"))\n",
    "\n",
    "unidade = numero%10\n",
    "dezena = numero//10\n",
    "dezena = dezena%10\n",
    "centena = numero//100\n",
    "centena = centena%10\n",
    "\n",
    "print(f\"{unidade}{dezena}{centena}\")"
   ]
  }
 ],
 "metadata": {
  "language_info": {
   "name": "python"
  }
 },
 "nbformat": 4,
 "nbformat_minor": 2
}
