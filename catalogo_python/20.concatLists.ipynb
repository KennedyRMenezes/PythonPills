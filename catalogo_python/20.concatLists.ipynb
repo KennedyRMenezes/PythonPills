{
 "cells": [
  {
   "cell_type": "code",
   "execution_count": null,
   "id": "9bad846f",
   "metadata": {},
   "outputs": [
    {
     "name": "stdout",
     "output_type": "stream",
     "text": [
      "[1, 3, 'Cinco', 'Machado', 'Graça', 'Austen', 'Kennedy', 3]\n"
     ]
    }
   ],
   "source": [
    "l1 = [1, 3, \"Cinco\"]\n",
    "l2 = [\"Machado\", \"Graça\", \"Austen\"]\n",
    "l3 = [\"Kennedy\", 3]\n",
    "\n",
    "new_l = l1 + l2 + l3\n",
    "\n",
    "print(new_l)"
   ]
  }
 ],
 "metadata": {
  "language_info": {
   "name": "python"
  }
 },
 "nbformat": 4,
 "nbformat_minor": 5
}
