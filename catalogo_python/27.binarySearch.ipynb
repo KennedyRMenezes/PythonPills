{
 "cells": [
  {
   "cell_type": "code",
   "execution_count": null,
   "id": "093cc6dd",
   "metadata": {},
   "outputs": [],
   "source": [
    "import math"
   ]
  },
  {
   "cell_type": "code",
   "execution_count": null,
   "id": "1df9a859",
   "metadata": {},
   "outputs": [
    {
     "name": "stdout",
     "output_type": "stream",
     "text": [
      "(47, 9)\n"
     ]
    }
   ],
   "source": [
    "def order_list(lista):\n",
    "    ord_l = sorted(lista)\n",
    "    return ord_l\n",
    "\n",
    "def busca_binaria(lista, alvo):\n",
    "\n",
    "    lista = order_list(lista)\n",
    "\n",
    "    inicio = 0\n",
    "    fim = len(lista)-1\n",
    "\n",
    "    while inicio <= fim:\n",
    "\n",
    "        meio = math.floor((inicio+fim)/2)\n",
    "\n",
    "        if lista[meio] == alvo:\n",
    "            return alvo, meio\n",
    "        elif lista[meio] < alvo:\n",
    "            inicio = meio + 1\n",
    "        elif lista[meio] > alvo:\n",
    "            fim = meio - 1\n",
    "    \n",
    "    return None\n",
    "\n",
    "num_lista_bin = [34, 5, 7, 1, 120, 45, -7, 9, 3, 213, 11, 47]\n",
    "alvo = busca_binaria(num_lista_bin, 47)\n",
    "print(alvo)"
   ]
  }
 ],
 "metadata": {
  "language_info": {
   "name": "python"
  }
 },
 "nbformat": 4,
 "nbformat_minor": 5
}
