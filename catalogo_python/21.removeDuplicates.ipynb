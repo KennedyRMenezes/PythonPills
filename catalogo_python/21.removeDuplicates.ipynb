{
 "cells": [
  {
   "cell_type": "code",
   "execution_count": null,
   "id": "84cd4b9e",
   "metadata": {},
   "outputs": [
    {
     "name": "stdout",
     "output_type": "stream",
     "text": [
      "[1, 2, 3, 'oi']\n"
     ]
    }
   ],
   "source": [
    "list_dup = [1, 2, 3, 3, 3, \"oi\", \"oi\"]\n",
    "\n",
    "no_dup = list(set(list_dup))\n",
    "\n",
    "print(no_dup)"
   ]
  }
 ],
 "metadata": {
  "language_info": {
   "name": "python"
  }
 },
 "nbformat": 4,
 "nbformat_minor": 5
}
