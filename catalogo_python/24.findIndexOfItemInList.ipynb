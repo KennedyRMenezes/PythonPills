{
 "cells": [
  {
   "cell_type": "code",
   "execution_count": null,
   "id": "36593256",
   "metadata": {},
   "outputs": [
    {
     "name": "stdout",
     "output_type": "stream",
     "text": [
      "2\n",
      "4\n"
     ]
    }
   ],
   "source": [
    "def find_index(lista: list, elemento) -> int:\n",
    "\n",
    "    return lista.index(elemento)\n",
    "\n",
    "lista_elementos = [1,2,3,9,\"dez\"]\n",
    "\n",
    "print(find_index(lista_elementos, 3))\n",
    "print(find_index(lista_elementos, \"dez\"))"
   ]
  }
 ],
 "metadata": {
  "language_info": {
   "name": "python"
  }
 },
 "nbformat": 4,
 "nbformat_minor": 5
}
