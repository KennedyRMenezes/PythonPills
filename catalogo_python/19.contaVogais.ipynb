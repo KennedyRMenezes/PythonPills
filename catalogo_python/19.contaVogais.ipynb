{
 "cells": [
  {
   "cell_type": "code",
   "execution_count": null,
   "id": "a4f61916",
   "metadata": {},
   "outputs": [
    {
     "name": "stdout",
     "output_type": "stream",
     "text": [
      "3 é/são a quantidade de vogais na palavra 'Meia'\n"
     ]
    }
   ],
   "source": [
    "\n",
    "def conta_vogais(palavra: str) -> str:\n",
    "    \n",
    "    vogais = [\"a\", \"e\", \"i\", \"o\", \"u\"]\n",
    "\n",
    "    palavra = palavra.strip().lower()\n",
    "\n",
    "    qtd_vogais = 0\n",
    "    for l in palavra:\n",
    "        if l in vogais:\n",
    "            qtd_vogais += 1\n",
    "        \n",
    "    return qtd_vogais\n",
    "\n",
    "palavra = \"Meia\"\n",
    "print(f\"{conta_vogais(palavra)} é a quantidade de vogais na palavra '{palavra}'\")"
   ]
  }
 ],
 "metadata": {
  "language_info": {
   "name": "python"
  }
 },
 "nbformat": 4,
 "nbformat_minor": 5
}
