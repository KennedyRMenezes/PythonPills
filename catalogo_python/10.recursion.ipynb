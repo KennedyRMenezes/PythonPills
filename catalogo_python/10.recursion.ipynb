{
 "cells": [
  {
   "cell_type": "markdown",
   "id": "05081499",
   "metadata": {},
   "source": [
    "##### Fatorial"
   ]
  },
  {
   "cell_type": "code",
   "execution_count": 4,
   "id": "72e2714b",
   "metadata": {},
   "outputs": [
    {
     "data": {
      "text/plain": [
       "120"
      ]
     },
     "execution_count": 4,
     "metadata": {},
     "output_type": "execute_result"
    }
   ],
   "source": [
    "def factorial(n):\n",
    "    if n == 1:\n",
    "        return 1\n",
    "    else:\n",
    "        return n * factorial(n-1)\n",
    "\n",
    "factorial(5)"
   ]
  },
  {
   "cell_type": "markdown",
   "id": "655b7da5",
   "metadata": {},
   "source": [
    "##### Soma de uma Lista"
   ]
  },
  {
   "cell_type": "code",
   "execution_count": null,
   "id": "b66f8223",
   "metadata": {},
   "outputs": [
    {
     "data": {
      "text/plain": [
       "10"
      ]
     },
     "execution_count": 43,
     "metadata": {},
     "output_type": "execute_result"
    }
   ],
   "source": [
    "def list_sum(list, length):\n",
    "    if length:\n",
    "        return list[length-1:length][0] + list_sum(list, length-1)\n",
    "    else:\n",
    "        return 0\n",
    "\n",
    "lista = [1,2,3,4]\n",
    "list_sum(lista, len(lista))"
   ]
  },
  {
   "cell_type": "code",
   "execution_count": null,
   "id": "5a8c4caf",
   "metadata": {},
   "outputs": [],
   "source": []
  }
 ],
 "metadata": {
  "kernelspec": {
   "display_name": "Python 3",
   "language": "python",
   "name": "python3"
  },
  "language_info": {
   "codemirror_mode": {
    "name": "ipython",
    "version": 3
   },
   "file_extension": ".py",
   "mimetype": "text/x-python",
   "name": "python",
   "nbconvert_exporter": "python",
   "pygments_lexer": "ipython3",
   "version": "3.11.9"
  }
 },
 "nbformat": 4,
 "nbformat_minor": 5
}
