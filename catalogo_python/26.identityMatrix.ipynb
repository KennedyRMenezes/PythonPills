{
 "cells": [
  {
   "cell_type": "markdown",
   "id": "9c0cf79d",
   "metadata": {},
   "source": [
    "##### 20 - Matrix Identidade"
   ]
  },
  {
   "cell_type": "markdown",
   "id": "bd442466",
   "metadata": {},
   "source": [
    "----- *modo 1* : modo mais lógico"
   ]
  },
  {
   "cell_type": "code",
   "execution_count": null,
   "id": "0d82edec",
   "metadata": {},
   "outputs": [],
   "source": [
    "def imprime_matriz(matriz):\n",
    "    for row in matriz:\n",
    "        print(row)"
   ]
  },
  {
   "cell_type": "code",
   "execution_count": null,
   "id": "2ad93549",
   "metadata": {},
   "outputs": [
    {
     "name": "stdout",
     "output_type": "stream",
     "text": [
      "[1, 0, 0, 0]\n",
      "[0, 1, 0, 0]\n",
      "[0, 0, 1, 0]\n",
      "[0, 0, 0, 1]\n"
     ]
    }
   ],
   "source": [
    "def ident_matrix(n):\n",
    "\n",
    "    matrix = []\n",
    "    for i in range(n):\n",
    "        row = []\n",
    "        for j in range(n):\n",
    "            if i == j:\n",
    "                row.append(1)\n",
    "            else:\n",
    "                row.append(0)\n",
    "        matrix.append(row)\n",
    "    return matrix\n",
    "\n",
    "matriz = ident_matrix(4)\n",
    "\n",
    "imprime_matriz(matriz)\n"
   ]
  },
  {
   "cell_type": "markdown",
   "id": "76d5ef0f",
   "metadata": {},
   "source": [
    "----- *modo 2* : modo mais lógico e pythonic"
   ]
  },
  {
   "cell_type": "code",
   "execution_count": null,
   "id": "3c99c820",
   "metadata": {},
   "outputs": [
    {
     "name": "stdout",
     "output_type": "stream",
     "text": [
      "[1, 0, 0, 0, 0]\n",
      "[0, 1, 0, 0, 0]\n",
      "[0, 0, 1, 0, 0]\n",
      "[0, 0, 0, 1, 0]\n",
      "[0, 0, 0, 0, 1]\n"
     ]
    }
   ],
   "source": [
    "def ident_matrix(n):\n",
    "    \n",
    "    matrix = [[0 for _ in range(n)] for _ in range(n)]\n",
    "\n",
    "    for i in range(n):\n",
    "        matrix[i][i] = 1\n",
    "\n",
    "    return matrix\n",
    "\n",
    "matriz = ident_matrix(5)\n",
    "\n",
    "imprime_matriz(matriz)"
   ]
  },
  {
   "cell_type": "markdown",
   "id": "824bfa11",
   "metadata": {},
   "source": [
    "----- *modo 3* : usando biblioteca numpy"
   ]
  },
  {
   "cell_type": "code",
   "execution_count": null,
   "id": "0cca103c",
   "metadata": {},
   "outputs": [
    {
     "name": "stdout",
     "output_type": "stream",
     "text": [
      "[1. 0. 0. 0.]\n",
      "[0. 1. 0. 0.]\n",
      "[0. 0. 1. 0.]\n",
      "[0. 0. 0. 1.]\n"
     ]
    }
   ],
   "source": [
    "import numpy as np\n",
    "\n",
    "matriz = np.identity(4)\n",
    "imprime_matriz(matriz)"
   ]
  }
 ],
 "metadata": {
  "language_info": {
   "name": "python"
  }
 },
 "nbformat": 4,
 "nbformat_minor": 5
}
