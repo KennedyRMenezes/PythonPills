{
 "cells": [
  {
   "cell_type": "markdown",
   "metadata": {},
   "source": [
    "#### Others"
   ]
  },
  {
   "cell_type": "markdown",
   "metadata": {},
   "source": [
    "##### Bitwise operators"
   ]
  },
  {
   "cell_type": "code",
   "execution_count": 50,
   "metadata": {},
   "outputs": [
    {
     "data": {
      "text/plain": [
       "4"
      ]
     },
     "execution_count": 50,
     "metadata": {},
     "output_type": "execute_result"
    }
   ],
   "source": [
    "# Shift logical left multiply the number.\n",
    "# 1 == 2 times\n",
    "# 2 == 4 times so on...\n",
    "2 << 1"
   ]
  },
  {
   "cell_type": "code",
   "execution_count": 51,
   "metadata": {},
   "outputs": [
    {
     "data": {
      "text/plain": [
       "8"
      ]
     },
     "execution_count": 51,
     "metadata": {},
     "output_type": "execute_result"
    }
   ],
   "source": [
    "2 << 2"
   ]
  },
  {
   "cell_type": "markdown",
   "metadata": {},
   "source": [
    "##### Loops"
   ]
  },
  {
   "cell_type": "code",
   "execution_count": 52,
   "metadata": {},
   "outputs": [],
   "source": [
    "a_list = [1, 2, \"Three\", 4]"
   ]
  },
  {
   "cell_type": "code",
   "execution_count": 53,
   "metadata": {},
   "outputs": [
    {
     "name": "stdout",
     "output_type": "stream",
     "text": [
      "1\n",
      "2\n",
      "Three\n",
      "4\n"
     ]
    }
   ],
   "source": [
    "# Loop in list\n",
    "for a in a_list:\n",
    "    print(a)"
   ]
  },
  {
   "cell_type": "code",
   "execution_count": 54,
   "metadata": {},
   "outputs": [],
   "source": [
    "b_dic = {\"k1\": 1, \"k2\": 2, \"k3\": 3, \"k4\": \"Happy\", \"k5\": [1,2,3]}"
   ]
  },
  {
   "cell_type": "code",
   "execution_count": 55,
   "metadata": {},
   "outputs": [
    {
     "name": "stdout",
     "output_type": "stream",
     "text": [
      "Chave      | Valor      | Tipo      \n",
      "k1         | 1          | <class 'int'>\n",
      "k2         | 2          | <class 'int'>\n",
      "k3         | 3          | <class 'int'>\n",
      "k4         | Happy      | <class 'str'>\n",
      "k5         | [1, 2, 3]  | <class 'list'>\n"
     ]
    }
   ],
   "source": [
    "# Loop in dictionarie\n",
    "print(f'{\"Chave\".ljust(10)} | {\"Valor\".ljust(10)} | {\"Tipo\".ljust(10)}')\n",
    "for key, value in b_dic.items():\n",
    "    print(f'{str(key).ljust(10)} | {str(value).ljust(10)} | {str(type(value)).ljust(10)}')"
   ]
  },
  {
   "cell_type": "code",
   "execution_count": 56,
   "metadata": {},
   "outputs": [],
   "source": [
    "c_tup = (1, 5, 7, 23, 9, 5, 80, 12)"
   ]
  },
  {
   "cell_type": "code",
   "execution_count": 57,
   "metadata": {},
   "outputs": [
    {
     "name": "stdout",
     "output_type": "stream",
     "text": [
      "1\n",
      "5\n",
      "7\n",
      "23\n",
      "9\n",
      "5\n",
      "80\n",
      "12\n"
     ]
    }
   ],
   "source": [
    "# Loop in tuples\n",
    "for a in c_tup:\n",
    "    print(a)"
   ]
  },
  {
   "cell_type": "code",
   "execution_count": 58,
   "metadata": {},
   "outputs": [],
   "source": [
    "d_str = \"Ao verme que primeiro \""
   ]
  },
  {
   "cell_type": "code",
   "execution_count": 59,
   "metadata": {},
   "outputs": [
    {
     "name": "stdout",
     "output_type": "stream",
     "text": [
      "A\n",
      "o\n",
      " \n",
      "v\n",
      "e\n",
      "r\n",
      "m\n",
      "e\n",
      " \n",
      "q\n",
      "u\n",
      "e\n",
      " \n",
      "p\n",
      "r\n",
      "i\n",
      "m\n",
      "e\n",
      "i\n",
      "r\n",
      "o\n",
      " \n"
     ]
    }
   ],
   "source": [
    "# Loop in string\n",
    "for a in d_str:\n",
    "    print(a)"
   ]
  },
  {
   "cell_type": "markdown",
   "metadata": {},
   "source": [
    "##### *args"
   ]
  },
  {
   "cell_type": "code",
   "execution_count": 60,
   "metadata": {},
   "outputs": [
    {
     "name": "stdout",
     "output_type": "stream",
     "text": [
      "('Mario', 'Luigi')\n"
     ]
    }
   ],
   "source": [
    "# Example 1\n",
    "def hello(*people):\n",
    "    print(people)\n",
    "\n",
    "hello(\"Mario\", \"Luigi\")\n"
   ]
  },
  {
   "cell_type": "code",
   "execution_count": 61,
   "metadata": {},
   "outputs": [
    {
     "name": "stdout",
     "output_type": "stream",
     "text": [
      "Ciao, Mario\n",
      "Ciao, Luigi\n"
     ]
    }
   ],
   "source": [
    "# Example 2\n",
    "\n",
    "def greet_people(language: str, *people: str):\n",
    "    if language == 'it':\n",
    "        greeting = 'Ciao'\n",
    "    else:\n",
    "        greeting = 'Hello'\n",
    "\n",
    "    for people in people:\n",
    "        print(f'{greeting}, {people}')\n",
    "\n",
    "greet_people('it', 'Mario', 'Luigi')"
   ]
  },
  {
   "cell_type": "code",
   "execution_count": 62,
   "metadata": {},
   "outputs": [
    {
     "name": "stdout",
     "output_type": "stream",
     "text": [
      "15 is the sum\n"
     ]
    }
   ],
   "source": [
    "# Example 3\n",
    "\n",
    "def add_number(*numbers, text: str):\n",
    "    numbers = [number for number in numbers]\n",
    "    print(sum(numbers), text)\n",
    "\n",
    "add_number(1, 2, 3, 4, 5, text='is the sum')"
   ]
  },
  {
   "cell_type": "markdown",
   "metadata": {},
   "source": [
    "##### **kwargs (keyword arguments)"
   ]
  },
  {
   "cell_type": "code",
   "execution_count": 14,
   "metadata": {},
   "outputs": [
    {
     "name": "stdout",
     "output_type": "stream",
     "text": [
      "{'user1': 'Mario', 'user2': 'Kennedy'}\n",
      "Mario\n",
      "Kennedy\n"
     ]
    }
   ],
   "source": [
    "# Example 1\n",
    "def create_users(**users):\n",
    "    print(users)\n",
    "    for user in users.values():\n",
    "        print(user)\n",
    "\n",
    "create_users(user1=\"Mario\", user2=\"Kennedy\")"
   ]
  },
  {
   "cell_type": "code",
   "execution_count": 15,
   "metadata": {},
   "outputs": [
    {
     "ename": "TypeError",
     "evalue": "say_hello() got multiple values for argument 'name'",
     "output_type": "error",
     "traceback": [
      "\u001b[0;31m---------------------------------------------------------------------------\u001b[0m",
      "\u001b[0;31mTypeError\u001b[0m                                 Traceback (most recent call last)",
      "Cell \u001b[0;32mIn[15], line 5\u001b[0m\n\u001b[1;32m      2\u001b[0m \u001b[38;5;28;01mdef\u001b[39;00m \u001b[38;5;21msay_hello\u001b[39m(name: \u001b[38;5;28mstr\u001b[39m, \u001b[38;5;241m*\u001b[39m\u001b[38;5;241m*\u001b[39mpeople):\n\u001b[1;32m      3\u001b[0m     \u001b[38;5;28mprint\u001b[39m(\u001b[38;5;124mf\u001b[39m\u001b[38;5;124m'\u001b[39m\u001b[38;5;132;01m{\u001b[39;00mname\u001b[38;5;132;01m}\u001b[39;00m\u001b[38;5;124m says hello to \u001b[39m\u001b[38;5;132;01m{\u001b[39;00mpeople\u001b[38;5;132;01m}\u001b[39;00m\u001b[38;5;124m'\u001b[39m)\n\u001b[0;32m----> 5\u001b[0m \u001b[43msay_hello\u001b[49m\u001b[43m(\u001b[49m\u001b[38;5;124;43m'\u001b[39;49m\u001b[38;5;124;43mMario\u001b[39;49m\u001b[38;5;124;43m'\u001b[39;49m\u001b[43m,\u001b[49m\u001b[43m \u001b[49m\u001b[43mname\u001b[49m\u001b[38;5;241;43m=\u001b[39;49m\u001b[38;5;124;43m'\u001b[39;49m\u001b[38;5;124;43mLuigi\u001b[39;49m\u001b[38;5;124;43m'\u001b[39;49m\u001b[43m,\u001b[49m\u001b[43m \u001b[49m\u001b[43mname2\u001b[49m\u001b[38;5;241;43m=\u001b[39;49m\u001b[38;5;124;43m'\u001b[39;49m\u001b[38;5;124;43mKennedy\u001b[39;49m\u001b[38;5;124;43m'\u001b[39;49m\u001b[43m)\u001b[49m\n",
      "\u001b[0;31mTypeError\u001b[0m: say_hello() got multiple values for argument 'name'"
     ]
    }
   ],
   "source": [
    "# Example 2\n",
    "def say_hello(name: str, **people):\n",
    "    print(f'{name} says hello to {people}')\n",
    "\n",
    "say_hello('Mario', name='Luigi', name2='Kennedy')"
   ]
  },
  {
   "cell_type": "code",
   "execution_count": null,
   "metadata": {},
   "outputs": [
    {
     "name": "stdout",
     "output_type": "stream",
     "text": [
      "Mario says hello to {'name': 'Luigi', 'name2': 'Kennedy'}\n"
     ]
    }
   ],
   "source": [
    "# When put / all after this is treated as a nameless variable, then works withou error\n",
    "\n",
    "def say_hello(name: str, / ,**people):\n",
    "    print(f'{name} says hello to {people}')\n",
    "\n",
    "say_hello('Mario', name='Luigi', name2='Kennedy')"
   ]
  },
  {
   "cell_type": "markdown",
   "metadata": {},
   "source": [
    "------- **Force people don't use keywords** ---------"
   ]
  },
  {
   "cell_type": "code",
   "execution_count": null,
   "metadata": {},
   "outputs": [
    {
     "name": "stdout",
     "output_type": "stream",
     "text": [
      "Mario & Luigi are now a team!\n"
     ]
    }
   ],
   "source": [
    "# Example 3\n",
    "def crate_team(name1, name2, /):\n",
    "    print(f'{name1} & {name2} are now a team!')\n",
    "\n",
    "crate_team('Mario', 'Luigi')"
   ]
  },
  {
   "cell_type": "code",
   "execution_count": null,
   "metadata": {},
   "outputs": [
    {
     "ename": "TypeError",
     "evalue": "crate_team() got an unexpected keyword argument 'user1'",
     "output_type": "error",
     "traceback": [
      "\u001b[0;31m---------------------------------------------------------------------------\u001b[0m",
      "\u001b[0;31mTypeError\u001b[0m                                 Traceback (most recent call last)",
      "Cell \u001b[0;32mIn[48], line 5\u001b[0m\n\u001b[1;32m      2\u001b[0m \u001b[38;5;28;01mdef\u001b[39;00m \u001b[38;5;21mcrate_team\u001b[39m(name1, name2, \u001b[38;5;241m/\u001b[39m):\n\u001b[1;32m      3\u001b[0m     \u001b[38;5;28mprint\u001b[39m(\u001b[38;5;124mf\u001b[39m\u001b[38;5;124m'\u001b[39m\u001b[38;5;132;01m{\u001b[39;00mname1\u001b[38;5;132;01m}\u001b[39;00m\u001b[38;5;124m & \u001b[39m\u001b[38;5;132;01m{\u001b[39;00mname2\u001b[38;5;132;01m}\u001b[39;00m\u001b[38;5;124m are now a team!\u001b[39m\u001b[38;5;124m'\u001b[39m)\n\u001b[0;32m----> 5\u001b[0m \u001b[43mcrate_team\u001b[49m\u001b[43m(\u001b[49m\u001b[38;5;124;43m'\u001b[39;49m\u001b[38;5;124;43mMario\u001b[39;49m\u001b[38;5;124;43m'\u001b[39;49m\u001b[43m,\u001b[49m\u001b[43m \u001b[49m\u001b[43muser1\u001b[49m\u001b[38;5;241;43m=\u001b[39;49m\u001b[38;5;124;43m'\u001b[39;49m\u001b[38;5;124;43mLuigi\u001b[39;49m\u001b[38;5;124;43m'\u001b[39;49m\u001b[43m)\u001b[49m\n",
      "\u001b[0;31mTypeError\u001b[0m: crate_team() got an unexpected keyword argument 'user1'"
     ]
    }
   ],
   "source": [
    "#Only arguments without keywods\n",
    "def crate_team(name1, name2, /):\n",
    "    print(f'{name1} & {name2} are now a team!')\n",
    "\n",
    "crate_team('Mario', user1='Luigi')"
   ]
  },
  {
   "cell_type": "markdown",
   "metadata": {},
   "source": [
    "------- **Force people *use* keywords** ---------"
   ]
  },
  {
   "cell_type": "code",
   "execution_count": null,
   "metadata": {},
   "outputs": [
    {
     "name": "stdout",
     "output_type": "stream",
     "text": [
      "Mario & Luigi are now a team!\n"
     ]
    }
   ],
   "source": [
    "def create_team2(*, name1, name2):\n",
    "    print(f'{name1} & {name2} are now a team!')\n",
    "\n",
    "create_team2(name1='Mario', name2='Luigi')"
   ]
  },
  {
   "cell_type": "code",
   "execution_count": null,
   "metadata": {},
   "outputs": [
    {
     "ename": "TypeError",
     "evalue": "create_team2() takes 0 positional arguments but 2 were given",
     "output_type": "error",
     "traceback": [
      "\u001b[0;31m---------------------------------------------------------------------------\u001b[0m",
      "\u001b[0;31mTypeError\u001b[0m                                 Traceback (most recent call last)",
      "Cell \u001b[0;32mIn[66], line 4\u001b[0m\n\u001b[1;32m      1\u001b[0m \u001b[38;5;28;01mdef\u001b[39;00m \u001b[38;5;21mcreate_team2\u001b[39m(\u001b[38;5;241m*\u001b[39m, name1, name2):\n\u001b[1;32m      2\u001b[0m     \u001b[38;5;28mprint\u001b[39m(\u001b[38;5;124mf\u001b[39m\u001b[38;5;124m'\u001b[39m\u001b[38;5;132;01m{\u001b[39;00mname1\u001b[38;5;132;01m}\u001b[39;00m\u001b[38;5;124m & \u001b[39m\u001b[38;5;132;01m{\u001b[39;00mname2\u001b[38;5;132;01m}\u001b[39;00m\u001b[38;5;124m are now a team!\u001b[39m\u001b[38;5;124m'\u001b[39m)\n\u001b[0;32m----> 4\u001b[0m \u001b[43mcreate_team2\u001b[49m\u001b[43m(\u001b[49m\u001b[38;5;124;43m'\u001b[39;49m\u001b[38;5;124;43mMario\u001b[39;49m\u001b[38;5;124;43m'\u001b[39;49m\u001b[43m,\u001b[49m\u001b[43m \u001b[49m\u001b[38;5;124;43m'\u001b[39;49m\u001b[38;5;124;43mLuigi\u001b[39;49m\u001b[38;5;124;43m'\u001b[39;49m\u001b[43m)\u001b[49m\n",
      "\u001b[0;31mTypeError\u001b[0m: create_team2() takes 0 positional arguments but 2 were given"
     ]
    }
   ],
   "source": [
    "def create_team2(*, name1, name2):\n",
    "    print(f'{name1} & {name2} are now a team!')\n",
    "\n",
    "create_team2('Mario', 'Luigi')"
   ]
  },
  {
   "cell_type": "markdown",
   "metadata": {},
   "source": [
    "##### Type Annotation"
   ]
  },
  {
   "cell_type": "code",
   "execution_count": null,
   "metadata": {},
   "outputs": [],
   "source": [
    "number: int =  10"
   ]
  },
  {
   "cell_type": "markdown",
   "metadata": {},
   "source": [
    "##### Yield"
   ]
  },
  {
   "cell_type": "code",
   "execution_count": 1,
   "metadata": {},
   "outputs": [
    {
     "name": "stdout",
     "output_type": "stream",
     "text": [
      "1\n"
     ]
    }
   ],
   "source": [
    "#Example\n",
    "def generator():\n",
    "    yield 1\n",
    "    yield 2\n",
    "    yield 3\n",
    "\n",
    "gen = generator()\n",
    "\n",
    "print(next(gen))"
   ]
  },
  {
   "cell_type": "code",
   "execution_count": 2,
   "metadata": {},
   "outputs": [
    {
     "name": "stdout",
     "output_type": "stream",
     "text": [
      "2\n"
     ]
    }
   ],
   "source": [
    "print(next(gen))"
   ]
  },
  {
   "cell_type": "code",
   "execution_count": 11,
   "metadata": {},
   "outputs": [
    {
     "name": "stdout",
     "output_type": "stream",
     "text": [
      "Hi\n",
      "2\n",
      "World\n"
     ]
    }
   ],
   "source": [
    "def generator_2():\n",
    "    yield from [\"Hi\", 2, \"World\", 4, 5]\n",
    "\n",
    "gen_2 = generator_2()\n",
    "\n",
    "print(next(gen_2))\n",
    "print(next(gen_2))\n",
    "print(next(gen_2))"
   ]
  },
  {
   "cell_type": "code",
   "execution_count": 13,
   "metadata": {},
   "outputs": [
    {
     "name": "stdout",
     "output_type": "stream",
     "text": [
      "Hello\n",
      "Hi\n",
      "2\n",
      "World\n",
      "4\n"
     ]
    }
   ],
   "source": [
    "def other_generator():\n",
    "    yield \"Hello\"\n",
    "\n",
    "    yield from generator_2()\n",
    "\n",
    "    yield \"Bye\"\n",
    "\n",
    "gen_3 = other_generator()\n",
    "\n",
    "print(next(gen_3))\n",
    "print(next(gen_3))\n",
    "print(next(gen_3))\n",
    "print(next(gen_3))\n",
    "print(next(gen_3))"
   ]
  },
  {
   "cell_type": "code",
   "execution_count": null,
   "metadata": {},
   "outputs": [],
   "source": []
  },
  {
   "cell_type": "code",
   "execution_count": null,
   "metadata": {},
   "outputs": [],
   "source": []
  }
 ],
 "metadata": {
  "kernelspec": {
   "display_name": "pipe",
   "language": "python",
   "name": "python3"
  },
  "language_info": {
   "codemirror_mode": {
    "name": "ipython",
    "version": 3
   },
   "file_extension": ".py",
   "mimetype": "text/x-python",
   "name": "python",
   "nbconvert_exporter": "python",
   "pygments_lexer": "ipython3",
   "version": "3.10.12"
  }
 },
 "nbformat": 4,
 "nbformat_minor": 2
}
