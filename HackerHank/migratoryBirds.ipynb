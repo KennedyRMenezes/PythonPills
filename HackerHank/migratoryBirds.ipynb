{
 "cells": [
  {
   "cell_type": "code",
   "execution_count": null,
   "metadata": {},
   "outputs": [
    {
     "name": "stdout",
     "output_type": "stream",
     "text": [
      "1\n",
      "4\n",
      "3\n"
     ]
    }
   ],
   "source": [
    "import statistics\n",
    "\n",
    "def migratoryBirds(arr):\n",
    "\n",
    "    return min(statistics.multimode(arr))\n",
    "\n",
    "arr_list = [[1,1,2,2,3],\n",
    "            [1, 4, 4, 4, 5, 3],\n",
    "            [1, 2, 3, 4, 5, 4, 3, 2, 1, 3, 4]]\n",
    "\n",
    "for i in arr_list:\n",
    "    print(migratoryBirds(i))"
   ]
  },
  {
   "cell_type": "code",
   "execution_count": null,
   "metadata": {},
   "outputs": [],
   "source": []
  }
 ],
 "metadata": {
  "kernelspec": {
   "display_name": "Python 3",
   "language": "python",
   "name": "python3"
  },
  "language_info": {
   "codemirror_mode": {
    "name": "ipython",
    "version": 3
   },
   "file_extension": ".py",
   "mimetype": "text/x-python",
   "name": "python",
   "nbconvert_exporter": "python",
   "pygments_lexer": "ipython3",
   "version": "3.10.12"
  }
 },
 "nbformat": 4,
 "nbformat_minor": 2
}
