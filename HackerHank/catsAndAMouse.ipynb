{
 "cells": [
  {
   "cell_type": "code",
   "execution_count": 1,
   "metadata": {},
   "outputs": [
    {
     "name": "stdout",
     "output_type": "stream",
     "text": [
      "Cat B\n"
     ]
    }
   ],
   "source": [
    "def stepToMouse(catPosition, mousePosition):\n",
    "    return (catPosition + 1 == mousePosition) or (catPosition - 1 == mousePosition)\n",
    "\n",
    "def catAndMouse(x, y, z):\n",
    "    if stepToMouse(x, z) and stepToMouse(y, z):\n",
    "        return \"Mouse C\"  \n",
    "    elif stepToMouse(x, z):  \n",
    "        return \"Cat A\"\n",
    "    elif stepToMouse(y, z): \n",
    "        return \"Cat B\"\n",
    "    else:\n",
    "        new_x = x + 1 if x < z else x - 1\n",
    "        new_y = y + 1 if y < z else y - 1\n",
    "        return catAndMouse(new_x, new_y, z)\n",
    "    \n",
    "positionCatA = 1\n",
    "positionCatB = 2\n",
    "positionMouse = 3\n",
    "\n",
    "print(catAndMouse(positionCatA, positionCatB, positionMouse))"
   ]
  },
  {
   "cell_type": "code",
   "execution_count": 2,
   "metadata": {},
   "outputs": [
    {
     "name": "stdout",
     "output_type": "stream",
     "text": [
      "Mouse C\n"
     ]
    }
   ],
   "source": [
    "positionCatA = 1\n",
    "positionCatB = 3\n",
    "positionMouse = 2\n",
    "\n",
    "print(catAndMouse(positionCatA, positionCatB, positionMouse))"
   ]
  },
  {
   "cell_type": "code",
   "execution_count": 3,
   "metadata": {},
   "outputs": [
    {
     "name": "stdout",
     "output_type": "stream",
     "text": [
      "Cat A\n"
     ]
    }
   ],
   "source": [
    "positionCatA = 1\n",
    "positionCatB = 4\n",
    "positionMouse = 2\n",
    "\n",
    "print(catAndMouse(positionCatA, positionCatB, positionMouse))"
   ]
  },
  {
   "cell_type": "code",
   "execution_count": null,
   "metadata": {},
   "outputs": [],
   "source": []
  }
 ],
 "metadata": {
  "kernelspec": {
   "display_name": "Python 3",
   "language": "python",
   "name": "python3"
  },
  "language_info": {
   "codemirror_mode": {
    "name": "ipython",
    "version": 3
   },
   "file_extension": ".py",
   "mimetype": "text/x-python",
   "name": "python",
   "nbconvert_exporter": "python",
   "pygments_lexer": "ipython3",
   "version": "3.11.9"
  }
 },
 "nbformat": 4,
 "nbformat_minor": 2
}
