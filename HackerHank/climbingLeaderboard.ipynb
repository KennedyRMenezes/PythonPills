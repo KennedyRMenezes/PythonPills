{
 "cells": [
  {
   "cell_type": "code",
   "execution_count": null,
   "metadata": {},
   "outputs": [
    {
     "name": "stdout",
     "output_type": "stream",
     "text": [
      "[6, 4, 2, 1]\n"
     ]
    }
   ],
   "source": [
    "import pandas as pd\n",
    "\n",
    "def makeDf(ranked):\n",
    "    return pd.DataFrame({\"points\": ranked})\n",
    "\n",
    "def makeDenseRank(ranked):\n",
    "    ranked['rank'] = ranked['points'].rank(method='dense', ascending=False).astype(int)\n",
    "    return ranked[['points', 'rank']].sort_values(by=\"points\", ascending=False)\n",
    "\n",
    "def findRankForScore(score, ranked):\n",
    "\n",
    "    last_rank = ranked.iloc[-1]['rank']\n",
    "\n",
    "    for _, row in ranked.iterrows():\n",
    "        if score >= row['points']:\n",
    "            return row['rank']\n",
    "    return last_rank+1\n",
    "\n",
    "def toInt(result):\n",
    "    return [int(x) for x in result]\n",
    "\n",
    "def climbingLeaderboard(ranked, player):\n",
    "    \n",
    "    ranked = makeDenseRank(makeDf(ranked))\n",
    "    result = toInt([findRankForScore(p, ranked) for p in player])\n",
    "    return result\n",
    "\n",
    "ranked = [100,100,50,40,40,20,10]\n",
    "player = [5,25,50,120]\n",
    "\n",
    "print(climbingLeaderboard(ranked, player))"
   ]
  },
  {
   "cell_type": "markdown",
   "metadata": {},
   "source": [
    "#### More simple and eficient"
   ]
  },
  {
   "cell_type": "code",
   "execution_count": 22,
   "metadata": {},
   "outputs": [
    {
     "name": "stdout",
     "output_type": "stream",
     "text": [
      "[6, 4, 2, 1]\n"
     ]
    }
   ],
   "source": [
    "def makeDenseRank(ranked):\n",
    "    return sorted(set(ranked), reverse=True)\n",
    "\n",
    "def binary_search(score, ranked):\n",
    "    left, right = 0, len(ranked) - 1\n",
    "    while left <= right:\n",
    "        mid = (left + right) // 2\n",
    "        if ranked[mid] == score:\n",
    "            return mid\n",
    "        elif ranked[mid] > score:\n",
    "            left = mid + 1\n",
    "        else:\n",
    "            right = mid - 1\n",
    "    return left\n",
    "\n",
    "def findRankForScore(score, ranked):\n",
    "    position = binary_search(score, ranked)\n",
    "    return position + 1\n",
    "\n",
    "def climbingLeaderboard(ranked, player):\n",
    "    unique_vals = makeDenseRank(ranked)\n",
    "    result = [findRankForScore(p, unique_vals) for p in player]\n",
    "    return result\n",
    "\n",
    "ranked = [100, 100, 50, 40, 40, 20, 10]\n",
    "player = [5, 25, 50, 120]\n",
    "\n",
    "# Calculando e mostrando os rankings\n",
    "print(climbing_leaderboard(ranked, player))"
   ]
  }
 ],
 "metadata": {
  "kernelspec": {
   "display_name": "Python 3",
   "language": "python",
   "name": "python3"
  },
  "language_info": {
   "codemirror_mode": {
    "name": "ipython",
    "version": 3
   },
   "file_extension": ".py",
   "mimetype": "text/x-python",
   "name": "python",
   "nbconvert_exporter": "python",
   "pygments_lexer": "ipython3",
   "version": "3.11.9"
  }
 },
 "nbformat": 4,
 "nbformat_minor": 2
}
