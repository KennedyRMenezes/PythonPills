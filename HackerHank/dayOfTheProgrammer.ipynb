{
 "cells": [
  {
   "cell_type": "code",
   "execution_count": 4,
   "metadata": {},
   "outputs": [
    {
     "name": "stdout",
     "output_type": "stream",
     "text": [
      "26.09.1918\n",
      "12.09.1916\n",
      "13.09.1985\n",
      "12.09.2000\n",
      "13.09.2001\n"
     ]
    }
   ],
   "source": [
    "def dayOfProgrammer(year):\n",
    "    \n",
    "    if year == 1918:\n",
    "        return \"26.09.1918\"\n",
    "    elif (year < 1917 and year % 4 == 0) or \\\n",
    "         (year > 1918 and ( \\\n",
    "                            (year % 400 == 0 or (\n",
    "                                                    year % 4 == 0 and year % 100 != 0\n",
    "                                                )\n",
    "                            )\n",
    "                          )\n",
    "         ):\n",
    "        return \"12.09.%s\" % year\n",
    "    else:\n",
    "        return \"13.09.%s\" % year\n",
    "\n",
    "years = [1918, 1916, 1985, 2000, 2001]\n",
    "\n",
    "for i in years:\n",
    "    print(dayOfProgrammer(i))"
   ]
  }
 ],
 "metadata": {
  "kernelspec": {
   "display_name": "Python 3",
   "language": "python",
   "name": "python3"
  },
  "language_info": {
   "codemirror_mode": {
    "name": "ipython",
    "version": 3
   },
   "file_extension": ".py",
   "mimetype": "text/x-python",
   "name": "python",
   "nbconvert_exporter": "python",
   "pygments_lexer": "ipython3",
   "version": "3.10.12"
  }
 },
 "nbformat": 4,
 "nbformat_minor": 2
}
