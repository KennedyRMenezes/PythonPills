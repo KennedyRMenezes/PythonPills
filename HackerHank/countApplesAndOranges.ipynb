{
 "cells": [
  {
   "cell_type": "code",
   "execution_count": null,
   "metadata": {},
   "outputs": [
    {
     "name": "stdout",
     "output_type": "stream",
     "text": [
      "1\n",
      "1\n"
     ]
    }
   ],
   "source": [
    "# https://www.hackerrank.com/challenges/apple-and-orange/problem?isFullScreen=true\n",
    "\n",
    "def countApplesAndOranges(s, t, a, b, apples, oranges):\n",
    "\n",
    "    countApples = 0\n",
    "    countOranges = 0\n",
    "    \n",
    "    for i in apples:\n",
    "        if i+a >= s and i+a <=t:\n",
    "            countApples+=1\n",
    "        else:\n",
    "            continue\n",
    "\n",
    "    for i in oranges:\n",
    "        if b+i <= t and b+i >=s:\n",
    "            countOranges+=1\n",
    "        else:\n",
    "            continue\n",
    "\n",
    "    print(f\"{countApples}\\n{countOranges}\")\n",
    "\n",
    "\n",
    "s = 2 # begin land\n",
    "t = 3 # finish land\n",
    "a = 1 # position OrangeTree\n",
    "b = 5 # position AppleTree\n",
    "apples = [2]\n",
    "oranges = [-2]\n",
    "\n",
    "countApplesAndOranges(s, t, a, b, apples, oranges)"
   ]
  },
  {
   "cell_type": "code",
   "execution_count": null,
   "metadata": {},
   "outputs": [],
   "source": []
  }
 ],
 "metadata": {
  "kernelspec": {
   "display_name": "venv",
   "language": "python",
   "name": "python3"
  },
  "language_info": {
   "codemirror_mode": {
    "name": "ipython",
    "version": 3
   },
   "file_extension": ".py",
   "mimetype": "text/x-python",
   "name": "python",
   "nbconvert_exporter": "python",
   "pygments_lexer": "ipython3",
   "version": "3.10.12"
  }
 },
 "nbformat": 4,
 "nbformat_minor": 2
}
