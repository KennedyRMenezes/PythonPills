{
 "cells": [
  {
   "cell_type": "code",
   "execution_count": 2,
   "metadata": {},
   "outputs": [
    {
     "name": "stdout",
     "output_type": "stream",
     "text": [
      "7\n"
     ]
    }
   ],
   "source": [
    "import sys\n",
    "\n",
    "def formingMagicSquare(s):\n",
    "\n",
    "    s = sum(s, [])\n",
    "\n",
    "    possible_magic_squares = [[8, 1, 6, 3, 5, 7, 4, 9, 2],\n",
    "                            [6, 1, 8, 7, 5, 3, 2 ,9, 4],\n",
    "                            [4, 9, 2, 3, 5, 7, 8, 1, 6],\n",
    "                            [2 ,9, 4, 7, 5, 3, 6, 1, 8],\n",
    "                            [8, 3, 4, 1, 5, 9, 6, 7, 2],\n",
    "                            [4, 3, 8, 9, 5, 1, 2, 7, 6],\n",
    "                            [6, 7, 2, 1, 5, 9, 8, 3, 4],\n",
    "                            [2, 7, 6, 9, 5, 1, 4, 3, 8]]\n",
    "    \n",
    "    minimumCost = sys.maxsize\n",
    "\n",
    "    for mag in possible_magic_squares:\n",
    "        diff = 0\n",
    "        for i, j in zip(s,mag):\n",
    "            diff += abs(i-j)\n",
    "        minimumCost = min(minimumCost, diff)\n",
    "    return minimumCost\n",
    "\n",
    "mt = [[5,3,4],[1,5,8],[6,4,2]]\n",
    "\n",
    "print(formingMagicSquare(mt))"
   ]
  },
  {
   "cell_type": "code",
   "execution_count": null,
   "metadata": {},
   "outputs": [],
   "source": []
  }
 ],
 "metadata": {
  "kernelspec": {
   "display_name": "Python 3",
   "language": "python",
   "name": "python3"
  },
  "language_info": {
   "codemirror_mode": {
    "name": "ipython",
    "version": 3
   },
   "file_extension": ".py",
   "mimetype": "text/x-python",
   "name": "python",
   "nbconvert_exporter": "python",
   "pygments_lexer": "ipython3",
   "version": "3.11.9"
  }
 },
 "nbformat": 4,
 "nbformat_minor": 2
}
