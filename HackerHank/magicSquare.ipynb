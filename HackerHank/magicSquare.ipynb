{
 "cells": [
  {
   "cell_type": "code",
   "execution_count": 1,
   "metadata": {},
   "outputs": [
    {
     "ename": "TypeError",
     "evalue": "unsupported operand type(s) for -: 'int' and 'list'",
     "output_type": "error",
     "traceback": [
      "\u001b[1;31m---------------------------------------------------------------------------\u001b[0m",
      "\u001b[1;31mTypeError\u001b[0m                                 Traceback (most recent call last)",
      "Cell \u001b[1;32mIn[1], line 27\u001b[0m\n\u001b[0;32m     23\u001b[0m     \u001b[38;5;28;01mreturn\u001b[39;00m minimumCost\n\u001b[0;32m     25\u001b[0m mt \u001b[38;5;241m=\u001b[39m [[\u001b[38;5;241m5\u001b[39m,\u001b[38;5;241m3\u001b[39m,\u001b[38;5;241m4\u001b[39m],[\u001b[38;5;241m1\u001b[39m,\u001b[38;5;241m5\u001b[39m,\u001b[38;5;241m8\u001b[39m],[\u001b[38;5;241m6\u001b[39m,\u001b[38;5;241m4\u001b[39m,\u001b[38;5;241m2\u001b[39m]]\n\u001b[1;32m---> 27\u001b[0m \u001b[38;5;28mprint\u001b[39m(\u001b[43mformingMagicSquare\u001b[49m\u001b[43m(\u001b[49m\u001b[43mmt\u001b[49m\u001b[43m)\u001b[49m)\n",
      "Cell \u001b[1;32mIn[1], line 21\u001b[0m, in \u001b[0;36mformingMagicSquare\u001b[1;34m(s)\u001b[0m\n\u001b[0;32m     19\u001b[0m     diff \u001b[38;5;241m=\u001b[39m \u001b[38;5;241m0\u001b[39m\n\u001b[0;32m     20\u001b[0m     \u001b[38;5;28;01mfor\u001b[39;00m i, j \u001b[38;5;129;01min\u001b[39;00m \u001b[38;5;28mzip\u001b[39m(s,mag):\n\u001b[1;32m---> 21\u001b[0m         diff \u001b[38;5;241m+\u001b[39m\u001b[38;5;241m=\u001b[39m \u001b[38;5;28mabs\u001b[39m(\u001b[43mi\u001b[49m\u001b[38;5;241;43m-\u001b[39;49m\u001b[43mj\u001b[49m)\n\u001b[0;32m     22\u001b[0m     minimumCost \u001b[38;5;241m=\u001b[39m \u001b[38;5;28mmin\u001b[39m(minimumCost, diff)\n\u001b[0;32m     23\u001b[0m \u001b[38;5;28;01mreturn\u001b[39;00m minimumCost\n",
      "\u001b[1;31mTypeError\u001b[0m: unsupported operand type(s) for -: 'int' and 'list'"
     ]
    }
   ],
   "source": [
    "import sys\n",
    "\n",
    "def formingMagicSquare(s):\n",
    "\n",
    "    s = sum(s, [])\n",
    "\n",
    "    possible_magic_squares = [[8, 1, 6, 3, 5, 7, 4, 9, 2],\n",
    "                            [6, 1, 8, 7, 5, 3, 2 ,9, 4],\n",
    "                            [4, 9, 2, 3, 5, 7, 8, 1, 6],\n",
    "                            [2 ,9, 4, 7, 5, 3, 6, 1, 8],\n",
    "                            [8, 3, 4, 1, 5, 9, 6, 7, 2],\n",
    "                            [4, 3, 8, 9, 5, 1, 2, 7, 6],\n",
    "                            [6, 7, 2, 1, 5, 9, 8, 3, 4],\n",
    "                            [2, 7, 6, 9, 5, 1, 4, 3, 8]]\n",
    "    \n",
    "    minimumCost = sys.maxsize\n",
    "\n",
    "    for mag in possible_magic_squares:\n",
    "        diff = 0\n",
    "        for i, j in zip(s,mag):\n",
    "            diff += abs(i-j)\n",
    "        minimumCost = min(minimumCost, diff)\n",
    "    return minimumCost\n",
    "\n",
    "mt = [[5,3,4],[1,5,8],[6,4,2]]\n",
    "\n",
    "print(formingMagicSquare(mt))"
   ]
  },
  {
   "cell_type": "code",
   "execution_count": null,
   "metadata": {},
   "outputs": [],
   "source": []
  }
 ],
 "metadata": {
  "kernelspec": {
   "display_name": "Python 3",
   "language": "python",
   "name": "python3"
  },
  "language_info": {
   "codemirror_mode": {
    "name": "ipython",
    "version": 3
   },
   "file_extension": ".py",
   "mimetype": "text/x-python",
   "name": "python",
   "nbconvert_exporter": "python",
   "pygments_lexer": "ipython3",
   "version": "3.11.9"
  }
 },
 "nbformat": 4,
 "nbformat_minor": 2
}
