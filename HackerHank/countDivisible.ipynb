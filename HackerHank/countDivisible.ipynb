{
 "cells": [
  {
   "cell_type": "code",
   "execution_count": null,
   "metadata": {},
   "outputs": [
    {
     "name": "stdout",
     "output_type": "stream",
     "text": [
      "5\n"
     ]
    }
   ],
   "source": [
    "#https://www.hackerrank.com/challenges/divisible-sum-pairs/problem?isFullScreen=true\n",
    "\n",
    "def divisibleSumPairs(n, k, ar):\n",
    "    \n",
    "    countDivisible= 0\n",
    "\n",
    "    arr = ar.copy()\n",
    "    \n",
    "    for i in range(len(arr)-1):\n",
    "        \n",
    "        for j in range(i+1, len(arr)):\n",
    "            \n",
    "            if i < j:\n",
    "                \n",
    "                sumToCheck = arr[i] + arr[j]\n",
    "                \n",
    "                if sumToCheck % k == 0:\n",
    "                    countDivisible+=1\n",
    "                else:\n",
    "                    continue\n",
    "            \n",
    "    return countDivisible\n",
    "    \n",
    "n= 6\n",
    "k = 3\n",
    "ar = [1,3,2,6,1,2]\n",
    "\n",
    "ans = divisibleSumPairs(n, k , ar)\n",
    "\n",
    "print(ans)\n",
    "\n",
    "\n"
   ]
  }
 ],
 "metadata": {
  "kernelspec": {
   "display_name": "venv",
   "language": "python",
   "name": "python3"
  },
  "language_info": {
   "codemirror_mode": {
    "name": "ipython",
    "version": 3
   },
   "file_extension": ".py",
   "mimetype": "text/x-python",
   "name": "python",
   "nbconvert_exporter": "python",
   "pygments_lexer": "ipython3",
   "version": "3.10.12"
  }
 },
 "nbformat": 4,
 "nbformat_minor": 2
}
