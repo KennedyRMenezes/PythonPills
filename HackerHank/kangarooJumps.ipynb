{
 "cells": [
  {
   "cell_type": "code",
   "execution_count": 1,
   "metadata": {},
   "outputs": [
    {
     "name": "stdout",
     "output_type": "stream",
     "text": [
      "YES on step 1\n"
     ]
    }
   ],
   "source": [
    "#https://www.hackerrank.com/challenges/kangaroo/problem?isFullScreen=true\n",
    "\n",
    "import time\n",
    "\n",
    "def kangaroo(x1, v1, x2, v2):\n",
    "\n",
    "    kan_one = x1 + v1\n",
    "    kan_two = x2 + v2\n",
    "\n",
    "    for i in range (10000):\n",
    "\n",
    "        if kan_one == kan_two:\n",
    "            return True, i+1\n",
    "        else:\n",
    "            kan_one+=v1\n",
    "            kan_two+=v2\n",
    "    \n",
    "    return False, 0\n",
    "\n",
    "\n",
    "\n",
    "x1 = 0\n",
    "v1 = 2\n",
    "x2 = 0\n",
    "v2 = 2\n",
    "\n",
    "result, step = kangaroo(x1, v1, x2, v2)\n",
    "\n",
    "print(f\"YES on step {step}\") if result else print(\"NO\")\n"
   ]
  },
  {
   "cell_type": "code",
   "execution_count": null,
   "metadata": {},
   "outputs": [],
   "source": []
  }
 ],
 "metadata": {
  "kernelspec": {
   "display_name": "venv",
   "language": "python",
   "name": "python3"
  },
  "language_info": {
   "codemirror_mode": {
    "name": "ipython",
    "version": 3
   },
   "file_extension": ".py",
   "mimetype": "text/x-python",
   "name": "python",
   "nbconvert_exporter": "python",
   "pygments_lexer": "ipython3",
   "version": "3.10.12"
  }
 },
 "nbformat": 4,
 "nbformat_minor": 2
}
