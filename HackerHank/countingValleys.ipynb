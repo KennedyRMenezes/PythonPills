{
 "cells": [
  {
   "cell_type": "code",
   "execution_count": 15,
   "metadata": {},
   "outputs": [
    {
     "name": "stdout",
     "output_type": "stream",
     "text": [
      "2\n"
     ]
    }
   ],
   "source": [
    "def countingValleys(path):\n",
    "    \n",
    "    coord_step = 0\n",
    "    count_val = 0\n",
    "    flip = True\n",
    "\n",
    "    for i in path:\n",
    "\n",
    "        if i == \"D\":\n",
    "            coord_step-=1\n",
    "        else:\n",
    "            coord_step+=1\n",
    "\n",
    "        if coord_step < 0 and flip:\n",
    "            count_val+=1\n",
    "            flip = not flip\n",
    "        \n",
    "        if coord_step >= 0:\n",
    "            flip = not flip\n",
    "        \n",
    "    return count_val\n",
    "            \n",
    "\n",
    "steps = ['D', 'D', 'U', 'U', 'U', 'D', 'D', 'D', 'D', 'U', 'U', 'D', 'D', 'U', 'U', 'U']\n",
    "print(countingValleys(steps))"
   ]
  },
  {
   "cell_type": "code",
   "execution_count": 12,
   "metadata": {},
   "outputs": [
    {
     "name": "stdout",
     "output_type": "stream",
     "text": [
      "['D', 'D', 'U', 'U', 'U', 'D', 'D', 'D', 'D', 'U', 'U', 'D', 'D', 'U', 'U', 'U']\n"
     ]
    }
   ],
   "source": [
    "a = \"DDUUUDDDDUUDDUUU\"\n",
    "\n",
    "step = []\n",
    "for i in a:\n",
    "    step.append(i)\n",
    "\n",
    "print(step)\n"
   ]
  }
 ],
 "metadata": {
  "kernelspec": {
   "display_name": "Python 3",
   "language": "python",
   "name": "python3"
  },
  "language_info": {
   "codemirror_mode": {
    "name": "ipython",
    "version": 3
   },
   "file_extension": ".py",
   "mimetype": "text/x-python",
   "name": "python",
   "nbconvert_exporter": "python",
   "pygments_lexer": "ipython3",
   "version": "3.11.9"
  }
 },
 "nbformat": 4,
 "nbformat_minor": 2
}
