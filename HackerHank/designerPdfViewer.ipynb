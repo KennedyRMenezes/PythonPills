{
 "cells": [
  {
   "cell_type": "code",
   "execution_count": 7,
   "metadata": {},
   "outputs": [],
   "source": [
    "def textListToList(h):\n",
    "    h = h.split(\" \")\n",
    "    h = [int(x) for x in h]\n",
    "    return h"
   ]
  },
  {
   "cell_type": "code",
   "execution_count": 10,
   "metadata": {},
   "outputs": [
    {
     "name": "stdout",
     "output_type": "stream",
     "text": [
      "9\n",
      "28\n"
     ]
    }
   ],
   "source": [
    "def designerPdfViewer(h, word):\n",
    "    height = 0\n",
    "     \n",
    "    for letter in word:\n",
    "        height = max(height, h[ord(letter) - ord('a')])\n",
    "        \n",
    "    return height*len(word)\n",
    "\n",
    "h = [\"1 3 1 3 1 4 1 3 2 5 5 5 5 5 5 5 5 5 5 5 5 5 5 5 5 5\",\n",
    "    \"1 3 1 3 1 4 1 3 2 5 5 5 5 5 5 5 5 5 5 5 5 5 5 5 5 7\"]\n",
    "word = [\"abc\", \"zaba\"]\n",
    "\n",
    "for i in range(len(h)):\n",
    "    print(designerPdfViewer(textListToList(h[i]), word[i]))"
   ]
  }
 ],
 "metadata": {
  "kernelspec": {
   "display_name": "Python 3",
   "language": "python",
   "name": "python3"
  },
  "language_info": {
   "codemirror_mode": {
    "name": "ipython",
    "version": 3
   },
   "file_extension": ".py",
   "mimetype": "text/x-python",
   "name": "python",
   "nbconvert_exporter": "python",
   "pygments_lexer": "ipython3",
   "version": "3.11.9"
  }
 },
 "nbformat": 4,
 "nbformat_minor": 2
}
