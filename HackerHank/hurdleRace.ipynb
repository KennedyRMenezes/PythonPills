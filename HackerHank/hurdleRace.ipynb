{
 "cells": [
  {
   "cell_type": "code",
   "execution_count": 12,
   "metadata": {},
   "outputs": [
    {
     "name": "stdout",
     "output_type": "stream",
     "text": [
      "2\n",
      "0\n"
     ]
    }
   ],
   "source": [
    "#https://www.hackerrank.com/challenges/the-hurdle-race/problem?isFullScreen=true\n",
    "\n",
    "def hurdleRace(k, height):\n",
    "    \n",
    "    need_to_jump = max(height) - k\n",
    "\n",
    "    if need_to_jump < 0: return 0\n",
    "    \n",
    "    return need_to_jump\n",
    "\n",
    "heights = [[1,6,3,5,2],\n",
    "           [2,5,4,5,2]]\n",
    "k = [4,7]\n",
    "\n",
    "for i in range(len(k)):\n",
    "    print(hurdleRace(k[i], heights[i]))"
   ]
  }
 ],
 "metadata": {
  "kernelspec": {
   "display_name": "Python 3",
   "language": "python",
   "name": "python3"
  },
  "language_info": {
   "codemirror_mode": {
    "name": "ipython",
    "version": 3
   },
   "file_extension": ".py",
   "mimetype": "text/x-python",
   "name": "python",
   "nbconvert_exporter": "python",
   "pygments_lexer": "ipython3",
   "version": "3.11.9"
  }
 },
 "nbformat": 4,
 "nbformat_minor": 2
}
