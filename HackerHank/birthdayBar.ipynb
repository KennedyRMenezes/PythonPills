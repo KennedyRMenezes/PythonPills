{
 "cells": [
  {
   "cell_type": "code",
   "execution_count": null,
   "metadata": {},
   "outputs": [
    {
     "name": "stdout",
     "output_type": "stream",
     "text": [
      "2\n"
     ]
    }
   ],
   "source": [
    "#https://www.hackerrank.com/challenges/the-birthday-bar/problem?isFullScreen=true\n",
    "\n",
    "def birthday(chocolate_bar, sum_day, splice_month):\n",
    "\n",
    "    count = 0\n",
    "    \n",
    "    for i in range(len(chocolate_bar)):\n",
    "        if i+splice_month > len(chocolate_bar):\n",
    "            break\n",
    "        else:\n",
    "            if sum(chocolate_bar[i:i+splice_month]) == sum_day:\n",
    "                count+=1\n",
    "\n",
    "    return count\n",
    "\n",
    "chocolate_bar = [2,2,1,3,2]\n",
    "sum_day = 4\n",
    "splice_month = 2\n",
    "\n",
    "print(birthday(s, d, m))"
   ]
  },
  {
   "cell_type": "code",
   "execution_count": 9,
   "metadata": {},
   "outputs": [
    {
     "name": "stdout",
     "output_type": "stream",
     "text": [
      "oi\n"
     ]
    }
   ],
   "source": [
    "def oi ():\n",
    "    print(\"oi\")\n",
    "\n",
    "oi()"
   ]
  },
  {
   "cell_type": "code",
   "execution_count": null,
   "metadata": {},
   "outputs": [],
   "source": []
  }
 ],
 "metadata": {
  "kernelspec": {
   "display_name": "Python 3",
   "language": "python",
   "name": "python3"
  },
  "language_info": {
   "codemirror_mode": {
    "name": "ipython",
    "version": 3
   },
   "file_extension": ".py",
   "mimetype": "text/x-python",
   "name": "python",
   "nbconvert_exporter": "python",
   "pygments_lexer": "ipython3",
   "version": "3.10.12"
  }
 },
 "nbformat": 4,
 "nbformat_minor": 2
}
