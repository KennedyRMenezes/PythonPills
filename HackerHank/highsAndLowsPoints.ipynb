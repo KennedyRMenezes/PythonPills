{
 "cells": [
  {
   "cell_type": "code",
   "execution_count": 1,
   "metadata": {},
   "outputs": [
    {
     "name": "stdout",
     "output_type": "stream",
     "text": [
      "[2, 4]\n"
     ]
    }
   ],
   "source": [
    "#https://www.hackerrank.com/challenges/between-two-sets/problem?isFullScreen=true\n",
    "\n",
    "def breakingRecords(scores):\n",
    "    \n",
    "    array_count = [0,0]\n",
    "    highest = 0\n",
    "    lowest = 0\n",
    "    \n",
    "    for i in range(len(scores)):\n",
    "        if i == 0:\n",
    "            highest = scores[i]\n",
    "            lowest = scores[i]\n",
    "        else:\n",
    "            if scores[i] > highest:\n",
    "                highest = scores[i]\n",
    "                array_count[0]+=1\n",
    "            elif scores[i] < lowest:\n",
    "                lowest = scores[i]\n",
    "                array_count[1]+=1\n",
    "            else:\n",
    "                continue\n",
    "    \n",
    "    return array_count\n",
    "        \n",
    "scores = [10,5, 20, 20, 4, 5, 2, 25, 1]\n",
    "\n",
    "print(breakingRecords(scores))\n"
   ]
  }
 ],
 "metadata": {
  "kernelspec": {
   "display_name": "venv",
   "language": "python",
   "name": "python3"
  },
  "language_info": {
   "codemirror_mode": {
    "name": "ipython",
    "version": 3
   },
   "file_extension": ".py",
   "mimetype": "text/x-python",
   "name": "python",
   "nbconvert_exporter": "python",
   "pygments_lexer": "ipython3",
   "version": "3.10.12"
  }
 },
 "nbformat": 4,
 "nbformat_minor": 2
}
