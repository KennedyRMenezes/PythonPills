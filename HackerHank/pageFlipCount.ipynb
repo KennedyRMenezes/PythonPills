{
 "cells": [
  {
   "cell_type": "code",
   "execution_count": 46,
   "metadata": {},
   "outputs": [
    {
     "name": "stdout",
     "output_type": "stream",
     "text": [
      "1\n"
     ]
    }
   ],
   "source": [
    "def pageCount(n, p):\n",
    "\n",
    "    front = p//2\n",
    "\n",
    "    if n%2 == 1:\n",
    "        back = (n-p)//2\n",
    "    else:\n",
    "        back = (n-p+1)//2\n",
    "    \n",
    "    return min(front,back)\n",
    "\n",
    "n = 6\n",
    "p = 5\n",
    "print(pageCount(n, p))"
   ]
  },
  {
   "cell_type": "code",
   "execution_count": null,
   "metadata": {},
   "outputs": [],
   "source": []
  }
 ],
 "metadata": {
  "kernelspec": {
   "display_name": "Python 3",
   "language": "python",
   "name": "python3"
  },
  "language_info": {
   "codemirror_mode": {
    "name": "ipython",
    "version": 3
   },
   "file_extension": ".py",
   "mimetype": "text/x-python",
   "name": "python",
   "nbconvert_exporter": "python",
   "pygments_lexer": "ipython3",
   "version": "3.11.9"
  }
 },
 "nbformat": 4,
 "nbformat_minor": 2
}
