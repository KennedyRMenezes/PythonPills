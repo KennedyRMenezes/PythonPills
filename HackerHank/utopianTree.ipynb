{
 "cells": [
  {
   "cell_type": "code",
   "execution_count": 7,
   "metadata": {},
   "outputs": [
    {
     "data": {
      "text/plain": [
       "7"
      ]
     },
     "execution_count": 7,
     "metadata": {},
     "output_type": "execute_result"
    }
   ],
   "source": [
    "def utopianTree(n):\n",
    "\n",
    "    height = 0\n",
    "    state = True\n",
    "    \n",
    "    for _ in range(n+1):\n",
    "\n",
    "        if state:\n",
    "            height+=1\n",
    "            state = not state\n",
    "        else:\n",
    "            height*=2\n",
    "            state = not state\n",
    "    \n",
    "    return height\n",
    "\n",
    "utopianTree(4)"
   ]
  }
 ],
 "metadata": {
  "kernelspec": {
   "display_name": "Python 3",
   "language": "python",
   "name": "python3"
  },
  "language_info": {
   "codemirror_mode": {
    "name": "ipython",
    "version": 3
   },
   "file_extension": ".py",
   "mimetype": "text/x-python",
   "name": "python",
   "nbconvert_exporter": "python",
   "pygments_lexer": "ipython3",
   "version": "3.11.9"
  }
 },
 "nbformat": 4,
 "nbformat_minor": 2
}
