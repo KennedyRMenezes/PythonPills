{
 "cells": [
  {
   "cell_type": "code",
   "execution_count": 29,
   "metadata": {},
   "outputs": [
    {
     "name": "stdout",
     "output_type": "stream",
     "text": [
      "3\n",
      "5\n",
      "5\n",
      "7\n"
     ]
    }
   ],
   "source": [
    "import itertools\n",
    "\n",
    "def filter_num(num, list_of_num):\n",
    "    \n",
    "    return list(filter(lambda x: x == (num), list_of_num))\n",
    "\n",
    "def explode_list(list_to_explode):\n",
    "\n",
    "    return list(itertools.chain(*list_to_explode))\n",
    "\n",
    "def max_len(list_to_count):\n",
    "\n",
    "    return max([len(x) for x in list_to_count])\n",
    "\n",
    "def pickingNumbers(a):\n",
    "\n",
    "    a.sort()\n",
    "\n",
    "    control = []\n",
    "    list_of_subarrays = []\n",
    "\n",
    "    for i in a[:-1]:\n",
    "\n",
    "        if i in control:\n",
    "            continue\n",
    "\n",
    "        just_i = filter_num(i, a)\n",
    "\n",
    "        if i+1 in a:\n",
    "            grater_than_i = filter_num((i+1), a)\n",
    "            list_of_subarrays.append(explode_list([just_i,grater_than_i]))\n",
    "        else:\n",
    "            list_of_subarrays.append(just_i)\n",
    "\n",
    "        control.append(i)\n",
    "\n",
    "    answer = max_len(list_of_subarrays)\n",
    "    \n",
    "    return answer\n",
    "\n",
    "\n",
    "\n",
    "arrs = [[4,6,5,3,3,1],\n",
    "        [1,2,2,3,1,2],\n",
    "        [1,1,2,2,4,4,5,5,5],\n",
    "        [1,1,2,2,4,4,5,5,5,7,7,7,7,7,7,7]]\n",
    "\n",
    "for i in arrs:\n",
    "    print(pickingNumbers(i))"
   ]
  },
  {
   "cell_type": "code",
   "execution_count": null,
   "metadata": {},
   "outputs": [],
   "source": []
  }
 ],
 "metadata": {
  "kernelspec": {
   "display_name": "Python 3",
   "language": "python",
   "name": "python3"
  },
  "language_info": {
   "codemirror_mode": {
    "name": "ipython",
    "version": 3
   },
   "file_extension": ".py",
   "mimetype": "text/x-python",
   "name": "python",
   "nbconvert_exporter": "python",
   "pygments_lexer": "ipython3",
   "version": "3.11.9"
  }
 },
 "nbformat": 4,
 "nbformat_minor": 2
}
