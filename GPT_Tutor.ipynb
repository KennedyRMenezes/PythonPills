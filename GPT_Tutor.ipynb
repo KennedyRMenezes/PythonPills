{
 "cells": [
  {
   "cell_type": "markdown",
   "metadata": {},
   "source": [
    "#### **GPT_Tutor**"
   ]
  },
  {
   "cell_type": "markdown",
   "metadata": {},
   "source": [
    "#### <font color=orange>***Desafios básicos***</font>"
   ]
  },
  {
   "cell_type": "markdown",
   "metadata": {},
   "source": [
    "##### Imprima \"Hello, World!\" na tela."
   ]
  },
  {
   "cell_type": "code",
   "execution_count": 4,
   "metadata": {},
   "outputs": [
    {
     "name": "stdout",
     "output_type": "stream",
     "text": [
      "Hello, World!\n"
     ]
    }
   ],
   "source": [
    "print(\"Hello, World!\")"
   ]
  },
  {
   "cell_type": "markdown",
   "metadata": {},
   "source": [
    "##### Some dois números fornecidos pelo usuário"
   ]
  },
  {
   "cell_type": "code",
   "execution_count": 5,
   "metadata": {},
   "outputs": [
    {
     "name": "stdout",
     "output_type": "stream",
     "text": [
      "13\n"
     ]
    }
   ],
   "source": [
    "input_1 = int(input())\n",
    "input_2 = int(input())\n",
    "\n",
    "print(input_1 + input_2)"
   ]
  },
  {
   "cell_type": "markdown",
   "metadata": {},
   "source": [
    "##### Verifique se um número é par ou ímpar."
   ]
  },
  {
   "cell_type": "code",
   "execution_count": 6,
   "metadata": {},
   "outputs": [
    {
     "name": "stdout",
     "output_type": "stream",
     "text": [
      "The number 17 is odd\n"
     ]
    }
   ],
   "source": [
    "num_odd_or_even = 17\n",
    "\n",
    "if num_odd_or_even % 2 == 0:\n",
    "    print(f\"The number {num_odd_or_even} is even\")\n",
    "else:\n",
    "    print(f\"The number {num_odd_or_even} is odd\")"
   ]
  },
  {
   "cell_type": "markdown",
   "metadata": {},
   "source": [
    "##### Encontre o maior de três números fornecidos pelo usuário."
   ]
  },
  {
   "cell_type": "code",
   "execution_count": 7,
   "metadata": {},
   "outputs": [
    {
     "name": "stdout",
     "output_type": "stream",
     "text": [
      "O maior numero dado como input foi 9\n"
     ]
    }
   ],
   "source": [
    "gt_1 = input()\n",
    "gt_2 = input()\n",
    "gt_3 = input()\n",
    "\n",
    "a = max(gt_1, gt_2, gt_3)\n",
    "\n",
    "print(f\"O maior numero dado como input foi {a}\")"
   ]
  },
  {
   "cell_type": "markdown",
   "metadata": {},
   "source": [
    "##### Inverta uma string fornecida pelo usuário"
   ]
  },
  {
   "cell_type": "code",
   "execution_count": 8,
   "metadata": {},
   "outputs": [],
   "source": [
    "import time"
   ]
  },
  {
   "cell_type": "code",
   "execution_count": 9,
   "metadata": {},
   "outputs": [
    {
     "name": "stdout",
     "output_type": "stream",
     "text": [
      "9\n",
      "8\n",
      "67\n",
      "5\n",
      "4\n",
      "2\n",
      "1\n",
      "Tempo gasto: 0.0003380775451660156\n",
      "0.0003380775451660156\n",
      "==============\n",
      "9\n",
      "8\n",
      "67\n",
      "5\n",
      "4\n",
      "2\n",
      "1\n",
      "Tempo gasto: 0.00010991096496582031\n",
      "0.00010991096496582031\n"
     ]
    }
   ],
   "source": [
    "list_rev = [1,2,4,5,67,8,9]\n",
    "\n",
    "start = time.time()\n",
    "for l in list_rev[-1::-1]:\n",
    "    print(l)\n",
    "end = time.time()\n",
    "\n",
    "print(f\"Tempo gasto: {end-start}\")\n",
    "print(end-start)\n",
    "\n",
    "\n",
    "print(\"==============\")\n",
    "\n",
    "start = time.time()\n",
    "list_rev = reversed(list_rev)\n",
    "for l in list_rev:\n",
    "    print(l)\n",
    "end = time.time()\n",
    "\n",
    "print(f\"Tempo gasto: {end-start}\")\n",
    "print(end-start)\n"
   ]
  },
  {
   "cell_type": "code",
   "execution_count": 10,
   "metadata": {},
   "outputs": [
    {
     "name": "stdout",
     "output_type": "stream",
     "text": [
      "ueor oriemirp euq emrev oA\n",
      "Tempo gasto: 9.942054748535156e-05\n",
      "==============\n",
      "ueor oriemirp euq emrev oA\n",
      "Tempo gasto: 7.2479248046875e-05\n"
     ]
    }
   ],
   "source": [
    "string_rev = \"Ao verme que primeiro roeu\"\n",
    "new_s = \"\"\n",
    "\n",
    "start = time.time()\n",
    "for l in string_rev[-1::-1]:\n",
    "    new_s += l\n",
    "end = time.time()\n",
    "\n",
    "print(new_s)\n",
    "print(f\"Tempo gasto: {end-start}\")\n",
    "\n",
    "\n",
    "print(\"==============\")\n",
    "\n",
    "start = time.time()\n",
    "string_rev = reversed(string_rev)\n",
    "new_s = \"\"\n",
    "for l in string_rev:\n",
    "    new_s += l\n",
    "end = time.time()\n",
    "\n",
    "print(new_s)\n",
    "print(f\"Tempo gasto: {end-start}\")\n"
   ]
  },
  {
   "cell_type": "markdown",
   "metadata": {},
   "source": [
    "##### Verifique se uma string é um palíndromo"
   ]
  },
  {
   "cell_type": "code",
   "execution_count": 11,
   "metadata": {},
   "outputs": [],
   "source": [
    "def rev_str(palavra: str) -> str:\n",
    "    string_rev = reversed(palavra)\n",
    "    new_s = \"\"\n",
    "    for l in string_rev:\n",
    "        new_s += l\n",
    "    return new_s"
   ]
  },
  {
   "cell_type": "code",
   "execution_count": 12,
   "metadata": {},
   "outputs": [
    {
     "name": "stdout",
     "output_type": "stream",
     "text": [
      "True\n",
      "False\n",
      "True\n",
      "0.00016736984252929688\n"
     ]
    }
   ],
   "source": [
    "def acha_palindromo(palavra: str) -> str:\n",
    "\n",
    "\n",
    "    palavra = palavra.lower().strip()\n",
    "\n",
    "    if len(palavra) % 2 == 0:\n",
    "        return False\n",
    "\n",
    "    i = 0\n",
    "    j = -1\n",
    "\n",
    "    for _ in palavra:\n",
    "        if palavra[i] != palavra[j]:\n",
    "            return False\n",
    "        i += 1\n",
    "        j -= 1\n",
    "\n",
    "    return True\n",
    "\n",
    "start = time.time()\n",
    "print(acha_palindromo(\"    RotaTor     \"))\n",
    "print(acha_palindromo(\"EU\"))\n",
    "print(acha_palindromo(\"MoM\"))\n",
    "end = time.time()\n",
    "print(end-start)"
   ]
  },
  {
   "cell_type": "markdown",
   "metadata": {},
   "source": [
    "##### Conte o número de vogais em uma string."
   ]
  },
  {
   "cell_type": "code",
   "execution_count": 13,
   "metadata": {},
   "outputs": [
    {
     "name": "stdout",
     "output_type": "stream",
     "text": [
      "3 é/são a quantidade de vogais na palavra 'Meia'\n"
     ]
    }
   ],
   "source": [
    "\n",
    "def conta_vogais(palavra: str) -> str:\n",
    "    \n",
    "    vogais = [\"a\", \"e\", \"i\", \"o\", \"u\"]\n",
    "\n",
    "    palavra = palavra.strip().lower()\n",
    "\n",
    "    qtd_vogais = 0\n",
    "    for l in palavra:\n",
    "        if l in vogais:\n",
    "            qtd_vogais += 1\n",
    "        \n",
    "    return qtd_vogais\n",
    "\n",
    "palavra = \"Meia\"\n",
    "print(f\"{conta_vogais(palavra)} é/são a quantidade de vogais na palavra '{palavra}'\")"
   ]
  },
  {
   "cell_type": "markdown",
   "metadata": {},
   "source": [
    "##### Imprima os números de 1 a 10 usando um loop."
   ]
  },
  {
   "cell_type": "code",
   "execution_count": 14,
   "metadata": {},
   "outputs": [
    {
     "name": "stdout",
     "output_type": "stream",
     "text": [
      "1\n",
      "2\n",
      "3\n",
      "4\n",
      "5\n",
      "6\n",
      "7\n",
      "8\n",
      "9\n",
      "10\n"
     ]
    }
   ],
   "source": [
    "for i in range(1,11):\n",
    "    print(i)"
   ]
  },
  {
   "cell_type": "markdown",
   "metadata": {},
   "source": [
    "##### Crie uma lista com os primeiros 10 números quadrados."
   ]
  },
  {
   "cell_type": "code",
   "execution_count": 15,
   "metadata": {},
   "outputs": [
    {
     "name": "stdout",
     "output_type": "stream",
     "text": [
      "[1, 4, 9, 16, 25, 36, 49, 64, 81, 100]\n"
     ]
    }
   ],
   "source": [
    "dez_primeiros_quadrados = [ (x*x) for x in range(1,11)]\n",
    "print(dez_primeiros_quadrados)"
   ]
  },
  {
   "cell_type": "markdown",
   "metadata": {},
   "source": [
    "##### Concatene duas listas."
   ]
  },
  {
   "cell_type": "code",
   "execution_count": 16,
   "metadata": {},
   "outputs": [
    {
     "name": "stdout",
     "output_type": "stream",
     "text": [
      "[1, 3, 'Cinco', 'Machado', 'Graça', 'Austen']\n"
     ]
    }
   ],
   "source": [
    "list_1_con = [1, 3, \"Cinco\"]\n",
    "list_2_con = [\"Machado\", \"Graça\", \"Austen\"]\n",
    "\n",
    "list_1_con.extend(list_2_con)\n",
    "\n",
    "print(list_1_con)"
   ]
  },
  {
   "cell_type": "markdown",
   "metadata": {},
   "source": [
    "#### <font color=orange>***Desafios intermediários***</font>"
   ]
  },
  {
   "cell_type": "markdown",
   "metadata": {},
   "source": [
    "##### Remova duplicatas de uma lista."
   ]
  },
  {
   "cell_type": "code",
   "execution_count": 17,
   "metadata": {},
   "outputs": [
    {
     "name": "stdout",
     "output_type": "stream",
     "text": [
      "[1, 2, 3, 'oi']\n"
     ]
    }
   ],
   "source": [
    "list_dup = [1, 2, 3, 3, 3, \"oi\", \"oi\"]\n",
    "\n",
    "sem_dup = list(dict.fromkeys(list_dup))\n",
    "\n",
    "print(sem_dup)"
   ]
  },
  {
   "cell_type": "markdown",
   "metadata": {},
   "source": [
    "##### Encontre o valor máximo e mínimo em uma lista."
   ]
  },
  {
   "cell_type": "code",
   "execution_count": 18,
   "metadata": {},
   "outputs": [
    {
     "name": "stdout",
     "output_type": "stream",
     "text": [
      "(-1, 1347)\n"
     ]
    }
   ],
   "source": [
    "def minmax(lista: str) -> str:\n",
    "    min_l = min(lista)\n",
    "    max_l = max(lista)\n",
    "    \n",
    "    return min_l, max_l\n",
    "    \n",
    "lista = [1, 9, 13, -1, 77, 1347]\n",
    "\n",
    "print(minmax(lista))"
   ]
  },
  {
   "cell_type": "markdown",
   "metadata": {},
   "source": [
    "##### Inverta uma lista sem usar o método reverse()."
   ]
  },
  {
   "cell_type": "code",
   "execution_count": 19,
   "metadata": {},
   "outputs": [
    {
     "name": "stdout",
     "output_type": "stream",
     "text": [
      "[65, 58, 17, 14, 9, 1]\n"
     ]
    }
   ],
   "source": [
    "def list_rev(lista: list) -> list:\n",
    "    new_l = []\n",
    "    for i in lista[-1::-1]:\n",
    "        new_l.append(i)\n",
    "    return new_l\n",
    "\n",
    "ll = [1, 9, 14,17,58,65]\n",
    "print(list_rev(ll))"
   ]
  },
  {
   "cell_type": "markdown",
   "metadata": {},
   "source": [
    "##### Ordene uma lista de números."
   ]
  },
  {
   "cell_type": "code",
   "execution_count": 20,
   "metadata": {},
   "outputs": [
    {
     "name": "stdout",
     "output_type": "stream",
     "text": [
      "[-5, 1, 4, 7, 10, 29, 31, 45, 78, 91, 110, 200]\n"
     ]
    }
   ],
   "source": [
    "def ord_list(lista: list) -> list:\n",
    "    ordered_list = sorted(lista)\n",
    "    return ordered_list\n",
    "\n",
    "\n",
    "unord_list = [4, 1, -5, 10, 7, 29, 91, 200, 110, 31, 45, 78]\n",
    "print(ord_list(unord_list))\n"
   ]
  },
  {
   "cell_type": "markdown",
   "metadata": {},
   "source": [
    "##### Conte a frequência de cada palavra em uma string."
   ]
  },
  {
   "cell_type": "code",
   "execution_count": 21,
   "metadata": {},
   "outputs": [],
   "source": [
    "str_poema = \"\"\"No meio do caminho tinha uma pedra\n",
    "tinha uma pedra no meio do caminho\n",
    "tinha uma pedra\n",
    "no meio do caminho tinha uma pedra.\n",
    "\n",
    "Nunca me esquecerei desse acontecimento\n",
    "na vida de minhas retinas tão fatigadas.\n",
    "Nunca me esquecerei que no meio do caminho\n",
    "tinha uma pedra\n",
    "tinha uma pedra no meio do caminho\n",
    "no meio do caminho tinha uma pedra.\"\"\""
   ]
  },
  {
   "cell_type": "code",
   "execution_count": 22,
   "metadata": {},
   "outputs": [
    {
     "name": "stdout",
     "output_type": "stream",
     "text": [
      "[('tinha', 7), ('uma', 7), ('no', 6), ('meio', 6), ('do', 6), ('caminho', 6), ('pedra', 5), ('pedra.', 2), ('nunca', 2), ('me', 2), ('esquecerei', 2), ('desse', 1), ('acontecimento', 1), ('na', 1), ('vida', 1), ('de', 1), ('minhas', 1), ('retinas', 1), ('tão', 1), ('fatigadas.', 1), ('que', 1)]\n"
     ]
    }
   ],
   "source": [
    "from operator import itemgetter\n",
    "\n",
    "\n",
    "def count_words(texto: str) -> dict:\n",
    "\n",
    "    l_texto = texto.lower().split()\n",
    "    dict_words = {}\n",
    "\n",
    "    for word in l_texto:\n",
    "        if word in list(dict_words.keys()):\n",
    "            dict_words[word] = dict_words[word] +1\n",
    "        else:\n",
    "            dict_words[word] = 1\n",
    "\n",
    "    dict_words = sorted(dict_words.items(), key=itemgetter(1), reverse=True)\n",
    "    \n",
    "    return dict_words\n",
    "\n",
    "dict_w = count_words(str_poema)\n",
    "\n",
    "print(dict_w)\n",
    "\n",
    "\n"
   ]
  },
  {
   "cell_type": "code",
   "execution_count": 23,
   "metadata": {},
   "outputs": [],
   "source": [
    "import pandas as pd"
   ]
  },
  {
   "cell_type": "code",
   "execution_count": 24,
   "metadata": {},
   "outputs": [
    {
     "data": {
      "text/html": [
       "<div>\n",
       "<style scoped>\n",
       "    .dataframe tbody tr th:only-of-type {\n",
       "        vertical-align: middle;\n",
       "    }\n",
       "\n",
       "    .dataframe tbody tr th {\n",
       "        vertical-align: top;\n",
       "    }\n",
       "\n",
       "    .dataframe thead th {\n",
       "        text-align: right;\n",
       "    }\n",
       "</style>\n",
       "<table border=\"1\" class=\"dataframe\">\n",
       "  <thead>\n",
       "    <tr style=\"text-align: right;\">\n",
       "      <th></th>\n",
       "      <th>quantidade</th>\n",
       "    </tr>\n",
       "    <tr>\n",
       "      <th>palavra</th>\n",
       "      <th></th>\n",
       "    </tr>\n",
       "  </thead>\n",
       "  <tbody>\n",
       "    <tr>\n",
       "      <th>tinha</th>\n",
       "      <td>7</td>\n",
       "    </tr>\n",
       "    <tr>\n",
       "      <th>uma</th>\n",
       "      <td>7</td>\n",
       "    </tr>\n",
       "    <tr>\n",
       "      <th>no</th>\n",
       "      <td>6</td>\n",
       "    </tr>\n",
       "    <tr>\n",
       "      <th>meio</th>\n",
       "      <td>6</td>\n",
       "    </tr>\n",
       "    <tr>\n",
       "      <th>do</th>\n",
       "      <td>6</td>\n",
       "    </tr>\n",
       "    <tr>\n",
       "      <th>caminho</th>\n",
       "      <td>6</td>\n",
       "    </tr>\n",
       "    <tr>\n",
       "      <th>pedra</th>\n",
       "      <td>5</td>\n",
       "    </tr>\n",
       "    <tr>\n",
       "      <th>pedra.</th>\n",
       "      <td>2</td>\n",
       "    </tr>\n",
       "    <tr>\n",
       "      <th>nunca</th>\n",
       "      <td>2</td>\n",
       "    </tr>\n",
       "    <tr>\n",
       "      <th>me</th>\n",
       "      <td>2</td>\n",
       "    </tr>\n",
       "    <tr>\n",
       "      <th>esquecerei</th>\n",
       "      <td>2</td>\n",
       "    </tr>\n",
       "    <tr>\n",
       "      <th>desse</th>\n",
       "      <td>1</td>\n",
       "    </tr>\n",
       "    <tr>\n",
       "      <th>acontecimento</th>\n",
       "      <td>1</td>\n",
       "    </tr>\n",
       "    <tr>\n",
       "      <th>na</th>\n",
       "      <td>1</td>\n",
       "    </tr>\n",
       "    <tr>\n",
       "      <th>vida</th>\n",
       "      <td>1</td>\n",
       "    </tr>\n",
       "    <tr>\n",
       "      <th>de</th>\n",
       "      <td>1</td>\n",
       "    </tr>\n",
       "    <tr>\n",
       "      <th>minhas</th>\n",
       "      <td>1</td>\n",
       "    </tr>\n",
       "    <tr>\n",
       "      <th>retinas</th>\n",
       "      <td>1</td>\n",
       "    </tr>\n",
       "    <tr>\n",
       "      <th>tão</th>\n",
       "      <td>1</td>\n",
       "    </tr>\n",
       "    <tr>\n",
       "      <th>fatigadas.</th>\n",
       "      <td>1</td>\n",
       "    </tr>\n",
       "    <tr>\n",
       "      <th>que</th>\n",
       "      <td>1</td>\n",
       "    </tr>\n",
       "  </tbody>\n",
       "</table>\n",
       "</div>"
      ],
      "text/plain": [
       "               quantidade\n",
       "palavra                  \n",
       "tinha                   7\n",
       "uma                     7\n",
       "no                      6\n",
       "meio                    6\n",
       "do                      6\n",
       "caminho                 6\n",
       "pedra                   5\n",
       "pedra.                  2\n",
       "nunca                   2\n",
       "me                      2\n",
       "esquecerei              2\n",
       "desse                   1\n",
       "acontecimento           1\n",
       "na                      1\n",
       "vida                    1\n",
       "de                      1\n",
       "minhas                  1\n",
       "retinas                 1\n",
       "tão                     1\n",
       "fatigadas.              1\n",
       "que                     1"
      ]
     },
     "execution_count": 24,
     "metadata": {},
     "output_type": "execute_result"
    }
   ],
   "source": [
    "df = pd.DataFrame(dict_w, columns=['palavra', 'quantidade']).set_index('palavra')\n",
    "df"
   ]
  },
  {
   "cell_type": "markdown",
   "metadata": {},
   "source": [
    "##### Encontre o índice de um item em uma lista."
   ]
  },
  {
   "cell_type": "code",
   "execution_count": 25,
   "metadata": {},
   "outputs": [
    {
     "name": "stdout",
     "output_type": "stream",
     "text": [
      "2\n",
      "4\n"
     ]
    }
   ],
   "source": [
    "def find_index(lista: list, elemento) -> int:\n",
    "\n",
    "    return lista.index(elemento)\n",
    "\n",
    "lista_elementos = [1,2,3,9,\"dez\"]\n",
    "\n",
    "print(find_index(lista_elementos, 3))\n",
    "print(find_index(lista_elementos, \"dez\"))"
   ]
  },
  {
   "cell_type": "markdown",
   "metadata": {},
   "source": [
    "##### Implemente uma função para calcular o fatorial de um número."
   ]
  },
  {
   "cell_type": "code",
   "execution_count": 26,
   "metadata": {},
   "outputs": [
    {
     "name": "stdout",
     "output_type": "stream",
     "text": [
      "1\n",
      "2\n",
      "6\n",
      "24\n",
      "120\n",
      "720\n",
      "5040\n",
      "40320\n",
      "362880\n",
      "3628800\n"
     ]
    }
   ],
   "source": [
    "def fact(n:int) -> int:\n",
    "    if n < 1:\n",
    "        return 1\n",
    "    else:\n",
    "        return n * fact(n-1)\n",
    "\n",
    "for i in range(1, 11):\n",
    "    print(fact(i))"
   ]
  },
  {
   "cell_type": "markdown",
   "metadata": {},
   "source": [
    "##### Gere uma lista de números primos até um valor fornecido pelo usuário."
   ]
  },
  {
   "cell_type": "code",
   "execution_count": 27,
   "metadata": {},
   "outputs": [
    {
     "name": "stdout",
     "output_type": "stream",
     "text": [
      "[2, 3, 5, 7, 11, 13, 17, 19, 23, 29, 31, 37, 41, 43, 47, 53, 59, 61, 67, 71, 73]\n"
     ]
    }
   ],
   "source": [
    "def verifica_primo(n:int) -> bool:\n",
    "\n",
    "    if n < 2:\n",
    "        return False\n",
    "    if n == 2 or n == 3:\n",
    "        return True\n",
    "    if n % 2 == 0 or n % 3 == 0:\n",
    "        return False\n",
    "    \n",
    "    #====== crivo de eratóstenes =======\n",
    "    i = 5\n",
    "    while i * i <= n:\n",
    "\n",
    "        if n % i == 0 or n % (i+2) == 0:\n",
    "            return False\n",
    "        \n",
    "        i += 6\n",
    "    #===================================\n",
    "\n",
    "    return True\n",
    "\n",
    "def primos_abaixo(n:int) -> list:\n",
    "\n",
    "    todos_os_primos = []\n",
    "\n",
    "    for i in range (2,n+1):\n",
    "        if verifica_primo(i):\n",
    "            todos_os_primos.append(i)\n",
    "    \n",
    "    return todos_os_primos\n",
    "\n",
    "retorno = primos_abaixo(75)\n",
    "print(retorno)\n"
   ]
  },
  {
   "cell_type": "markdown",
   "metadata": {},
   "source": [
    "##### Explicação Crivo de Eratostenes"
   ]
  },
  {
   "cell_type": "markdown",
   "metadata": {},
   "source": [
    "Essa parte do código faz referência a uma otimização muito comum na verificação de números primos, usando o fato de que **se um número `n` não tem divisores menores ou iguais à sua raiz quadrada, ele não terá divisores maiores que isso**.\n",
    "\n",
    "Vamos explicar por que isso funciona.\n",
    "\n",
    "\n",
    "<font color=green>**Divisores vêm em pares**</font>\n",
    "\n",
    "Todo número composto (não primo) pode ser escrito como o produto de dois números. Por exemplo:\n",
    "\n",
    "- 36 = 6 × 6\n",
    "- 18 = 2 × 9\n",
    "- 100 = 10 × 10\n",
    "\n",
    "Em cada caso, os divisores de `n` vêm em pares:\n",
    "\n",
    "- Para 36: os divisores pares são (2, 18), (3, 12), (6, 6), etc.\n",
    "- Para 100: os divisores pares são (2, 50), (4, 25), (5, 20), (10, 10), etc.\n",
    "\n",
    "Note que à medida que os divisores aumentam de um lado do par, os divisores correspondentes diminuem do outro lado.\n",
    "\n",
    "<font color=green>**Importância da raiz quadrada**</font>\n",
    "\n",
    "Agora, observe que no caso de `n = 36`, o divisor mais próximo do meio é 6 (raiz quadrada de 36). Similarmente, para 100, a raiz quadrada é 10. O que isso significa é que, **se `n` tiver algum divisor maior que sua raiz quadrada**, esse divisor terá que ser combinado com um divisor menor que a raiz quadrada, formando um par. Portanto, se não encontrarmos divisores menores ou iguais à raiz quadrada de `n`, podemos concluir que `n` não tem divisores maiores também.\n",
    "\n",
    "Por exemplo:\n",
    "\n",
    "- Se `n = 36` e você testar divisores até a raiz quadrada de 36 (ou seja, até 6), você terá testado todos os possíveis pares de divisores. Se não encontrar um divisor até 6, não há necessidade de verificar valores maiores, pois eles teriam um par divisor menor que 6 (e você já verificou isso).\n",
    "- Se você testar 7, 8, 9, etc., para `n = 36`, qualquer divisor que encontrar teria que formar um par divisor que é menor que 6, e já sabemos que não há tal divisor.\n",
    "\n",
    "<font color=green>**Por que `while i * i <= n` ?**</font>\n",
    "\n",
    "Essa linha é usada para garantir que o loop só teste até a raiz quadrada de `n`. Como a raiz quadrada de `n` é `sqrt(n)`, verificamos se `i * i <= n` ao invés de calcular a raiz quadrada explicitamente para evitar cálculos extras.\n",
    "\n",
    "<font color=green>**Exemplo prático:**</font>\n",
    "\n",
    "Vamos dizer que estamos verificando se 37 é primo.\n",
    "\n",
    "- A raiz quadrada de 37 é aproximadamente 6,08.\n",
    "- No loop, começamos a testar divisores a partir de 2 e verificamos até 6.\n",
    "- Se não encontrarmos nenhum divisor até 6, podemos concluir que 37 é primo, porque se 37 tivesse um divisor maior que 6, ele teria um par divisor menor que 6, que já teria sido encontrado.\n",
    "\n",
    "Essa técnica permite que você reduza drasticamente o número de verificações necessárias para determinar se um número é primo, especialmente quando `n` é grande."
   ]
  },
  {
   "cell_type": "markdown",
   "metadata": {},
   "source": [
    "##### Matrix Identidade"
   ]
  },
  {
   "cell_type": "markdown",
   "metadata": {},
   "source": [
    "----- *modo 1* : modo mais lógico"
   ]
  },
  {
   "cell_type": "code",
   "execution_count": 28,
   "metadata": {},
   "outputs": [],
   "source": [
    "def imprime_matriz(matriz):\n",
    "    for row in matriz:\n",
    "        print(row)"
   ]
  },
  {
   "cell_type": "code",
   "execution_count": 29,
   "metadata": {},
   "outputs": [
    {
     "name": "stdout",
     "output_type": "stream",
     "text": [
      "[1, 0, 0, 0]\n",
      "[0, 1, 0, 0]\n",
      "[0, 0, 1, 0]\n",
      "[0, 0, 0, 1]\n"
     ]
    }
   ],
   "source": [
    "def ident_matrix(n):\n",
    "\n",
    "    matrix = []\n",
    "    for i in range(n):\n",
    "        row = []\n",
    "        for j in range(n):\n",
    "            if i == j:\n",
    "                row.append(1)\n",
    "            else:\n",
    "                row.append(0)\n",
    "        matrix.append(row)\n",
    "    return matrix\n",
    "\n",
    "matriz = ident_matrix(4)\n",
    "\n",
    "imprime_matriz(matriz)\n"
   ]
  },
  {
   "cell_type": "markdown",
   "metadata": {},
   "source": [
    "----- *modo 2* : modo mais lógico e pythonic"
   ]
  },
  {
   "cell_type": "code",
   "execution_count": 30,
   "metadata": {},
   "outputs": [
    {
     "name": "stdout",
     "output_type": "stream",
     "text": [
      "[1, 0, 0, 0, 0]\n",
      "[0, 1, 0, 0, 0]\n",
      "[0, 0, 1, 0, 0]\n",
      "[0, 0, 0, 1, 0]\n",
      "[0, 0, 0, 0, 1]\n"
     ]
    }
   ],
   "source": [
    "def ident_matrix(n):\n",
    "    \n",
    "    matrix = [[0 for _ in range(n)] for _ in range(n)]\n",
    "\n",
    "    for i in range(n):\n",
    "        matrix[i][i] = 1\n",
    "\n",
    "    return matrix\n",
    "\n",
    "matriz = ident_matrix(5)\n",
    "\n",
    "imprime_matriz(matriz)"
   ]
  },
  {
   "cell_type": "markdown",
   "metadata": {},
   "source": [
    "----- *modo 3* : usando biblioteca numpy"
   ]
  },
  {
   "cell_type": "code",
   "execution_count": 31,
   "metadata": {},
   "outputs": [
    {
     "name": "stdout",
     "output_type": "stream",
     "text": [
      "[1. 0. 0. 0.]\n",
      "[0. 1. 0. 0.]\n",
      "[0. 0. 1. 0.]\n",
      "[0. 0. 0. 1.]\n"
     ]
    }
   ],
   "source": [
    "import numpy as np\n",
    "\n",
    "matriz = np.identity(4)\n",
    "imprime_matriz(matriz)"
   ]
  },
  {
   "cell_type": "markdown",
   "metadata": {},
   "source": [
    "#### <font color=orange>***Desafios técnicos***</font>"
   ]
  },
  {
   "cell_type": "markdown",
   "metadata": {},
   "source": [
    "##### Implemente um algoritmo de busca binária."
   ]
  },
  {
   "cell_type": "code",
   "execution_count": 32,
   "metadata": {},
   "outputs": [],
   "source": [
    "import math"
   ]
  },
  {
   "cell_type": "code",
   "execution_count": 33,
   "metadata": {},
   "outputs": [
    {
     "name": "stdout",
     "output_type": "stream",
     "text": [
      "(47, 9)\n"
     ]
    }
   ],
   "source": [
    "def order_list(lista):\n",
    "    ord_l = sorted(lista)\n",
    "    return ord_l\n",
    "\n",
    "def busca_binaria(lista, alvo):\n",
    "\n",
    "    lista = order_list(lista)\n",
    "\n",
    "    inicio = 0\n",
    "    fim = len(lista)-1\n",
    "\n",
    "    while inicio <= fim:\n",
    "\n",
    "        meio = math.floor((inicio+fim)/2)\n",
    "\n",
    "        if lista[meio] == alvo:\n",
    "            return alvo, meio\n",
    "        elif lista[meio] < alvo:\n",
    "            inicio = meio + 1\n",
    "        elif lista[meio] > alvo:\n",
    "            fim = meio - 1\n",
    "    \n",
    "    return None\n",
    "\n",
    "num_lista_bin = [34, 5, 7, 1, 120, 45, -7, 9, 3, 213, 11, 47]\n",
    "alvo = busca_binaria(num_lista_bin, 47)\n",
    "print(alvo)"
   ]
  },
  {
   "cell_type": "markdown",
   "metadata": {},
   "source": [
    "##### -"
   ]
  },
  {
   "cell_type": "code",
   "execution_count": null,
   "metadata": {},
   "outputs": [],
   "source": []
  }
 ],
 "metadata": {
  "kernelspec": {
   "display_name": "venv",
   "language": "python",
   "name": "python3"
  },
  "language_info": {
   "codemirror_mode": {
    "name": "ipython",
    "version": 3
   },
   "file_extension": ".py",
   "mimetype": "text/x-python",
   "name": "python",
   "nbconvert_exporter": "python",
   "pygments_lexer": "ipython3",
   "version": "3.10.12"
  }
 },
 "nbformat": 4,
 "nbformat_minor": 2
}
