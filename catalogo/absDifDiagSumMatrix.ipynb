{
 "cells": [
  {
   "cell_type": "markdown",
   "id": "041346e2",
   "metadata": {},
   "source": [
    "Diferença absoluta da soma das diagonais de uma matriz"
   ]
  },
  {
   "cell_type": "code",
   "execution_count": 2,
   "id": "526375ac",
   "metadata": {},
   "outputs": [
    {
     "name": "stdout",
     "output_type": "stream",
     "text": [
      "15\n"
     ]
    }
   ],
   "source": [
    "# My solution\n",
    "def diagonalDifference(arr):\n",
    "    n = len(arr[0])\n",
    "    \n",
    "    sum_primary = 0\n",
    "    sum_secondary = 0\n",
    "\n",
    "    control_secondary = n-1\n",
    "    \n",
    "    for i in range(n):\n",
    "        for j in range(n):\n",
    "            if i == j:\n",
    "                sum_primary = sum_primary + arr[i][j]\n",
    "            if j == control_secondary:\n",
    "                sum_secondary = sum_secondary + arr[i][j]\n",
    "                control_secondary = control_secondary - 1\n",
    "              \n",
    "    \n",
    "    return abs(sum_primary - sum_secondary)\n",
    "\n",
    "if __name__ == '__main__':\n",
    "    arr = [\n",
    "        [11, 2, 4],\n",
    "        [4, 5, 6],\n",
    "        [10, 8, -12]\n",
    "    ]\n",
    "\n",
    "    result = diagonalDifference(arr)\n",
    "\n",
    "    print(result)\n",
    "\n",
    "# # More pythonic\n",
    "# def diagonalDifference(arr):\n",
    "#     n = len(arr)\n",
    "#     sum_primary = sum(arr[i][i] for i in range(n))\n",
    "#     sum_secondary = sum(arr[i][n - 1 - i] for i in range(n))\n",
    "#     return abs(sum_primary - sum_secondary)"
   ]
  },
  {
   "cell_type": "code",
   "execution_count": null,
   "id": "9adf9205",
   "metadata": {},
   "outputs": [],
   "source": []
  }
 ],
 "metadata": {
  "kernelspec": {
   "display_name": "Python 3",
   "language": "python",
   "name": "python3"
  },
  "language_info": {
   "codemirror_mode": {
    "name": "ipython",
    "version": 3
   },
   "file_extension": ".py",
   "mimetype": "text/x-python",
   "name": "python",
   "nbconvert_exporter": "python",
   "pygments_lexer": "ipython3",
   "version": "3.11.9"
  }
 },
 "nbformat": 4,
 "nbformat_minor": 5
}
