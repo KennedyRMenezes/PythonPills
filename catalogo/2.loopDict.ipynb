{
 "cells": [
  {
   "cell_type": "code",
   "execution_count": 1,
   "id": "f8b1500d",
   "metadata": {},
   "outputs": [
    {
     "name": "stdout",
     "output_type": "stream",
     "text": [
      "Chave      | Valor      | Tipo      \n",
      "k1         | 1          | <class 'int'>\n",
      "k2         | 2          | <class 'int'>\n",
      "k3         | 3          | <class 'int'>\n",
      "k4         | Happy      | <class 'str'>\n",
      "k5         | [1, 2, 3]  | <class 'list'>\n"
     ]
    }
   ],
   "source": [
    "b_dic = {\"k1\": 1, \"k2\": 2, \"k3\": 3, \"k4\": \"Happy\", \"k5\": [1,2,3]}\n",
    "\n",
    "# Loop in dictionarie\n",
    "print(f'{\"Chave\".ljust(10)} | {\"Valor\".ljust(10)} | {\"Tipo\".ljust(10)}')\n",
    "for key, value in b_dic.items():\n",
    "    print(f'{str(key).ljust(10)} | {str(value).ljust(10)} | {str(type(value)).ljust(10)}')"
   ]
  },
  {
   "cell_type": "code",
   "execution_count": null,
   "id": "14c93d43",
   "metadata": {},
   "outputs": [],
   "source": []
  }
 ],
 "metadata": {
  "kernelspec": {
   "display_name": "Python 3",
   "language": "python",
   "name": "python3"
  },
  "language_info": {
   "codemirror_mode": {
    "name": "ipython",
    "version": 3
   },
   "file_extension": ".py",
   "mimetype": "text/x-python",
   "name": "python",
   "nbconvert_exporter": "python",
   "pygments_lexer": "ipython3",
   "version": "3.11.9"
  }
 },
 "nbformat": 4,
 "nbformat_minor": 5
}
