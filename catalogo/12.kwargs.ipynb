{
 "cells": [
  {
   "cell_type": "code",
   "execution_count": null,
   "id": "01157af1",
   "metadata": {},
   "outputs": [
    {
     "name": "stdout",
     "output_type": "stream",
     "text": [
      "{'user1': 'Mario', 'user2': 'Kennedy'}\n",
      "Mario\n",
      "Kennedy\n"
     ]
    }
   ],
   "source": [
    "# Example 1\n",
    "def create_users(**users):\n",
    "    print(users)\n",
    "    for user in users.values():\n",
    "        print(user)\n",
    "\n",
    "create_users(user1=\"Mario\", user2=\"Kennedy\")"
   ]
  },
  {
   "cell_type": "code",
   "execution_count": null,
   "id": "671f4d59",
   "metadata": {},
   "outputs": [
    {
     "ename": "TypeError",
     "evalue": "say_hello() got multiple values for argument 'name'",
     "output_type": "error",
     "traceback": [
      "\u001b[0;31m---------------------------------------------------------------------------\u001b[0m\n",
      "\u001b[0;31mTypeError\u001b[0m                                 Traceback (most recent call last)\n",
      "Cell \u001b[0;32mIn[17], line 5\u001b[0m\n",
      "\u001b[1;32m      2\u001b[0m \u001b[38;5;28;01mdef\u001b[39;00m \u001b[38;5;21msay_hello\u001b[39m(name: \u001b[38;5;28mstr\u001b[39m, \u001b[38;5;241m*\u001b[39m\u001b[38;5;241m*\u001b[39mpeople):\n",
      "\u001b[1;32m      3\u001b[0m     \u001b[38;5;28mprint\u001b[39m(\u001b[38;5;124mf\u001b[39m\u001b[38;5;124m'\u001b[39m\u001b[38;5;132;01m{\u001b[39;00mname\u001b[38;5;132;01m}\u001b[39;00m\u001b[38;5;124m says hello to \u001b[39m\u001b[38;5;132;01m{\u001b[39;00mpeople\u001b[38;5;132;01m}\u001b[39;00m\u001b[38;5;124m'\u001b[39m)\n",
      "\u001b[0;32m----> 5\u001b[0m \u001b[43msay_hello\u001b[49m\u001b[43m(\u001b[49m\u001b[38;5;124;43m'\u001b[39;49m\u001b[38;5;124;43mMario\u001b[39;49m\u001b[38;5;124;43m'\u001b[39;49m\u001b[43m,\u001b[49m\u001b[43m \u001b[49m\u001b[43mname\u001b[49m\u001b[38;5;241;43m=\u001b[39;49m\u001b[38;5;124;43m'\u001b[39;49m\u001b[38;5;124;43mLuigi\u001b[39;49m\u001b[38;5;124;43m'\u001b[39;49m\u001b[43m,\u001b[49m\u001b[43m \u001b[49m\u001b[43mname2\u001b[49m\u001b[38;5;241;43m=\u001b[39;49m\u001b[38;5;124;43m'\u001b[39;49m\u001b[38;5;124;43mKennedy\u001b[39;49m\u001b[38;5;124;43m'\u001b[39;49m\u001b[43m)\u001b[49m\n",
      "\n",
      "\u001b[0;31mTypeError\u001b[0m: say_hello() got multiple values for argument 'name'"
     ]
    }
   ],
   "source": [
    "# Example 2\n",
    "def say_hello(name: str, **people):\n",
    "    print(f'{name} says hello to {people}')\n",
    "\n",
    "say_hello('Mario', name='Luigi', name2='Kennedy')"
   ]
  },
  {
   "cell_type": "code",
   "execution_count": null,
   "id": "3adcb4c2",
   "metadata": {},
   "outputs": [
    {
     "name": "stdout",
     "output_type": "stream",
     "text": [
      "Mario says hello to {'name': 'Luigi', 'name2': 'Kennedy'}\n"
     ]
    }
   ],
   "source": [
    "# When put / all after this is treated as a nameless variable, then works withou error\n",
    "\n",
    "def say_hello(name: str, / ,**people):\n",
    "    print(f'{name} says hello to {people}')\n",
    "\n",
    "say_hello('Mario', name='Luigi', name2='Kennedy')"
   ]
  },
  {
   "cell_type": "markdown",
   "id": "c7564323",
   "metadata": {},
   "source": [
    "------- **Force people don't use keywords** ---------"
   ]
  },
  {
   "cell_type": "code",
   "execution_count": null,
   "id": "3218d091",
   "metadata": {},
   "outputs": [
    {
     "name": "stdout",
     "output_type": "stream",
     "text": [
      "Mario & Luigi are now a team!\n"
     ]
    }
   ],
   "source": [
    "# Example 3\n",
    "def crate_team(name1, name2, /):\n",
    "    print(f'{name1} & {name2} are now a team!')\n",
    "\n",
    "crate_team('Mario', 'Luigi')"
   ]
  },
  {
   "cell_type": "code",
   "execution_count": null,
   "id": "cfb9854b",
   "metadata": {},
   "outputs": [
    {
     "ename": "TypeError",
     "evalue": "crate_team() got an unexpected keyword argument 'user1'",
     "output_type": "error",
     "traceback": [
      "\u001b[1;31m---------------------------------------------------------------------------\u001b[0m\n",
      "\u001b[1;31mTypeError\u001b[0m                                 Traceback (most recent call last)\n",
      "Cell \u001b[1;32mIn[3], line 5\u001b[0m\n",
      "\u001b[0;32m      2\u001b[0m \u001b[38;5;28;01mdef\u001b[39;00m \u001b[38;5;21mcrate_team\u001b[39m(name1, name2, \u001b[38;5;241m/\u001b[39m):\n",
      "\u001b[0;32m      3\u001b[0m     \u001b[38;5;28mprint\u001b[39m(\u001b[38;5;124mf\u001b[39m\u001b[38;5;124m'\u001b[39m\u001b[38;5;132;01m{\u001b[39;00mname1\u001b[38;5;132;01m}\u001b[39;00m\u001b[38;5;124m & \u001b[39m\u001b[38;5;132;01m{\u001b[39;00mname2\u001b[38;5;132;01m}\u001b[39;00m\u001b[38;5;124m are now a team!\u001b[39m\u001b[38;5;124m'\u001b[39m)\n",
      "\u001b[1;32m----> 5\u001b[0m \u001b[43mcrate_team\u001b[49m\u001b[43m(\u001b[49m\u001b[38;5;124;43m'\u001b[39;49m\u001b[38;5;124;43mMario\u001b[39;49m\u001b[38;5;124;43m'\u001b[39;49m\u001b[43m,\u001b[49m\u001b[43m \u001b[49m\u001b[43muser1\u001b[49m\u001b[38;5;241;43m=\u001b[39;49m\u001b[38;5;124;43m'\u001b[39;49m\u001b[38;5;124;43mLuigi\u001b[39;49m\u001b[38;5;124;43m'\u001b[39;49m\u001b[43m)\u001b[49m\n",
      "\n",
      "\u001b[1;31mTypeError\u001b[0m: crate_team() got an unexpected keyword argument 'user1'"
     ]
    }
   ],
   "source": [
    "#Only arguments without keywods\n",
    "def crate_team(name1, name2, /):\n",
    "    print(f'{name1} & {name2} are now a team!')\n",
    "\n",
    "crate_team('Mario', user1='Luigi')"
   ]
  },
  {
   "cell_type": "markdown",
   "id": "e2e55030",
   "metadata": {},
   "source": [
    "------- **Force people *use* keywords** ---------"
   ]
  },
  {
   "cell_type": "code",
   "execution_count": null,
   "id": "3de038de",
   "metadata": {},
   "outputs": [
    {
     "name": "stdout",
     "output_type": "stream",
     "text": [
      "Mario & Luigi are now a team!\n"
     ]
    }
   ],
   "source": [
    "def create_team2(*, name1, name2):\n",
    "    print(f'{name1} & {name2} are now a team!')\n",
    "\n",
    "create_team2(name1='Mario', name2='Luigi')"
   ]
  },
  {
   "cell_type": "code",
   "execution_count": null,
   "id": "875b208f",
   "metadata": {},
   "outputs": [
    {
     "ename": "TypeError",
     "evalue": "create_team2() takes 0 positional arguments but 2 were given",
     "output_type": "error",
     "traceback": [
      "\u001b[1;31m---------------------------------------------------------------------------\u001b[0m\n",
      "\u001b[1;31mTypeError\u001b[0m                                 Traceback (most recent call last)\n",
      "Cell \u001b[1;32mIn[5], line 4\u001b[0m\n",
      "\u001b[0;32m      1\u001b[0m \u001b[38;5;28;01mdef\u001b[39;00m \u001b[38;5;21mcreate_team2\u001b[39m(\u001b[38;5;241m*\u001b[39m, name1, name2):\n",
      "\u001b[0;32m      2\u001b[0m     \u001b[38;5;28mprint\u001b[39m(\u001b[38;5;124mf\u001b[39m\u001b[38;5;124m'\u001b[39m\u001b[38;5;132;01m{\u001b[39;00mname1\u001b[38;5;132;01m}\u001b[39;00m\u001b[38;5;124m & \u001b[39m\u001b[38;5;132;01m{\u001b[39;00mname2\u001b[38;5;132;01m}\u001b[39;00m\u001b[38;5;124m are now a team!\u001b[39m\u001b[38;5;124m'\u001b[39m)\n",
      "\u001b[1;32m----> 4\u001b[0m \u001b[43mcreate_team2\u001b[49m\u001b[43m(\u001b[49m\u001b[38;5;124;43m'\u001b[39;49m\u001b[38;5;124;43mMario\u001b[39;49m\u001b[38;5;124;43m'\u001b[39;49m\u001b[43m,\u001b[49m\u001b[43m \u001b[49m\u001b[38;5;124;43m'\u001b[39;49m\u001b[38;5;124;43mLuigi\u001b[39;49m\u001b[38;5;124;43m'\u001b[39;49m\u001b[43m)\u001b[49m\n",
      "\n",
      "\u001b[1;31mTypeError\u001b[0m: create_team2() takes 0 positional arguments but 2 were given"
     ]
    }
   ],
   "source": [
    "def create_team2(*, name1, name2):\n",
    "    print(f'{name1} & {name2} are now a team!')\n",
    "\n",
    "create_team2('Mario', 'Luigi')"
   ]
  }
 ],
 "metadata": {
  "language_info": {
   "name": "python"
  }
 },
 "nbformat": 4,
 "nbformat_minor": 5
}
