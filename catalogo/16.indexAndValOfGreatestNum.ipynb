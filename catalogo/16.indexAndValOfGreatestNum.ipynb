{
 "cells": [
  {
   "cell_type": "code",
   "execution_count": null,
   "id": "1c13aa55",
   "metadata": {},
   "outputs": [],
   "source": [
    "import numpy as np"
   ]
  },
  {
   "cell_type": "code",
   "execution_count": null,
   "id": "8a14b0dd",
   "metadata": {},
   "outputs": [
    {
     "name": "stdout",
     "output_type": "stream",
     "text": [
      "[3 5 7]\n",
      "[ 76  91 120]\n"
     ]
    }
   ],
   "source": [
    "# Array original\n",
    "array = np.array([12, 54, 1, 76, 3, 91, 44, 120])\n",
    "\n",
    "# Obter os índices dos três maiores valores\n",
    "indices_maiores = np.argsort(array)[-3:]\n",
    "print(indices_maiores)\n",
    "\n",
    "# Obter os três maiores valores usando esses índices\n",
    "maiores_valores = array[indices_maiores]\n",
    "print(maiores_valores)"
   ]
  }
 ],
 "metadata": {
  "language_info": {
   "name": "python"
  }
 },
 "nbformat": 4,
 "nbformat_minor": 5
}
