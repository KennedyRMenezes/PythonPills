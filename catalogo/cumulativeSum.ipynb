{
 "cells": [
  {
   "cell_type": "code",
   "execution_count": null,
   "id": "fcf64bc1",
   "metadata": {},
   "outputs": [
    {
     "data": {
      "text/plain": [
       "[1, 3, 8, 12, 19, 32, 46, 64, 79, 100]"
      ]
     },
     "metadata": {},
     "output_type": "display_data"
    }
   ],
   "source": [
    "to_sum_vals = [1,2,5,4,7,13,14,18,15,21]\n",
    "\n",
    "added = [sum(to_sum_vals[0:i+1]) for i in range(len(to_sum_vals))]\n",
    "added"
   ]
  }
 ],
 "metadata": {
  "language_info": {
   "name": "python"
  }
 },
 "nbformat": 4,
 "nbformat_minor": 5
}
