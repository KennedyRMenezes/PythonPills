{
 "cells": [
  {
   "cell_type": "code",
   "execution_count": null,
   "id": "587f942f",
   "metadata": {},
   "outputs": [
    {
     "name": "stdout",
     "output_type": "stream",
     "text": [
      "[-5, 1, 4, 7, 10, 29, 31, 45, 78, 91, 110, 200]\n"
     ]
    }
   ],
   "source": [
    "def ord_list(lista: list) -> list:\n",
    "    ordered_list = sorted(lista)\n",
    "    return ordered_list\n",
    "\n",
    "\n",
    "unord_list = [4, 1, -5, 10, 7, 29, 91, 200, 110, 31, 45, 78]\n",
    "print(ord_list(unord_list))\n"
   ]
  }
 ],
 "metadata": {
  "language_info": {
   "name": "python"
  }
 },
 "nbformat": 4,
 "nbformat_minor": 5
}
