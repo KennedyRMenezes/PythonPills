{
 "cells": [
  {
   "cell_type": "code",
   "execution_count": null,
   "id": "ca7e1b54",
   "metadata": {},
   "outputs": [
    {
     "name": "stdout",
     "output_type": "stream",
     "text": [
      "('Mario', 'Luigi')\n"
     ]
    }
   ],
   "source": [
    "# Example 1\n",
    "def hello(*people):\n",
    "    print(people)\n",
    "\n",
    "hello(\"Mario\", \"Luigi\")\n"
   ]
  },
  {
   "cell_type": "code",
   "execution_count": null,
   "id": "12114158",
   "metadata": {},
   "outputs": [
    {
     "name": "stdout",
     "output_type": "stream",
     "text": [
      "Ciao, Mario\n",
      "Ciao, Luigi\n"
     ]
    }
   ],
   "source": [
    "# Example 2\n",
    "\n",
    "def greet_people(language: str, *people: str):\n",
    "    if language == 'it':\n",
    "        greeting = 'Ciao'\n",
    "    else:\n",
    "        greeting = 'Hello'\n",
    "\n",
    "    for people in people:\n",
    "        print(f'{greeting}, {people}')\n",
    "\n",
    "greet_people('it', 'Mario', 'Luigi')"
   ]
  },
  {
   "cell_type": "code",
   "execution_count": null,
   "id": "2506307e",
   "metadata": {},
   "outputs": [
    {
     "name": "stdout",
     "output_type": "stream",
     "text": [
      "15 is the sum\n"
     ]
    }
   ],
   "source": [
    "# Example 3\n",
    "\n",
    "def add_number(*numbers, text: str):\n",
    "    numbers = [number for number in numbers]\n",
    "    print(sum(numbers), text)\n",
    "\n",
    "add_number(1, 2, 3, 4, 5, text='is the sum')"
   ]
  }
 ],
 "metadata": {
  "language_info": {
   "name": "python"
  }
 },
 "nbformat": 4,
 "nbformat_minor": 5
}
