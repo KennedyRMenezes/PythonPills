{
 "cells": [
  {
   "cell_type": "code",
   "execution_count": null,
   "id": "71ed4ab6",
   "metadata": {
    "vscode": {
     "languageId": "plaintext"
    }
   },
   "outputs": [],
   "source": [
    "def verifica_primo(n:int) -> bool:\n",
    "\n",
    "    if n < 2:\n",
    "        return False\n",
    "    if n == 2 or n == 3:\n",
    "        return True\n",
    "    if n % 2 == 0 or n % 3 == 0:\n",
    "        return False\n",
    "    \n",
    "    #====== crivo de eratóstenes =======\n",
    "    i = 5\n",
    "    while i * i <= n:\n",
    "\n",
    "        if n % i == 0 or n % (i+2) == 0:\n",
    "            return False\n",
    "        \n",
    "        i += 6\n",
    "    #===================================\n",
    "\n",
    "    return True\n",
    "\n",
    "def primos_abaixo(n:int) -> list:\n",
    "\n",
    "    todos_os_primos = []\n",
    "\n",
    "    for i in range (2,n+1):\n",
    "        if verifica_primo(i):\n",
    "            todos_os_primos.append(i)\n",
    "    \n",
    "    return todos_os_primos\n",
    "\n",
    "retorno = primos_abaixo(75)\n",
    "print(retorno)\n"
   ]
  },
  {
   "cell_type": "markdown",
   "id": "d299e193",
   "metadata": {},
   "source": [
    "##### Explicação Crivo de Eratostenes"
   ]
  },
  {
   "cell_type": "markdown",
   "id": "db7cf316",
   "metadata": {},
   "source": [
    "Essa parte do código faz referência a uma otimização muito comum na verificação de números primos, usando o fato de que **se um número `n` não tem divisores menores ou iguais à sua raiz quadrada, ele não terá divisores maiores que isso**.\n",
    "\n",
    "Vamos explicar por que isso funciona.\n",
    "\n",
    "\n",
    "<font color=green>**Divisores vêm em pares**</font>\n",
    "\n",
    "Todo número composto (não primo) pode ser escrito como o produto de dois números. Por exemplo:\n",
    "\n",
    "- 36 = 6 × 6\n",
    "- 18 = 2 × 9\n",
    "- 100 = 10 × 10\n",
    "\n",
    "Em cada caso, os divisores de `n` vêm em pares:\n",
    "\n",
    "- Para 36: os divisores pares são (2, 18), (3, 12), (6, 6), etc.\n",
    "- Para 100: os divisores pares são (2, 50), (4, 25), (5, 20), (10, 10), etc.\n",
    "\n",
    "Note que à medida que os divisores aumentam de um lado do par, os divisores correspondentes diminuem do outro lado.\n",
    "\n",
    "<font color=green>**Importância da raiz quadrada**</font>\n",
    "\n",
    "Agora, observe que no caso de `n = 36`, o divisor mais próximo do meio é 6 (raiz quadrada de 36). Similarmente, para 100, a raiz quadrada é 10. O que isso significa é que, **se `n` tiver algum divisor maior que sua raiz quadrada**, esse divisor terá que ser combinado com um divisor menor que a raiz quadrada, formando um par. Portanto, se não encontrarmos divisores menores ou iguais à raiz quadrada de `n`, podemos concluir que `n` não tem divisores maiores também.\n",
    "\n",
    "Por exemplo:\n",
    "\n",
    "- Se `n = 36` e você testar divisores até a raiz quadrada de 36 (ou seja, até 6), você terá testado todos os possíveis pares de divisores. Se não encontrar um divisor até 6, não há necessidade de verificar valores maiores, pois eles teriam um par divisor menor que 6 (e você já verificou isso).\n",
    "- Se você testar 7, 8, 9, etc., para `n = 36`, qualquer divisor que encontrar teria que formar um par divisor que é menor que 6, e já sabemos que não há tal divisor.\n",
    "\n",
    "<font color=green>**Por que `while i * i <= n` ?**</font>\n",
    "\n",
    "Essa linha é usada para garantir que o loop só teste até a raiz quadrada de `n`. Como a raiz quadrada de `n` é `sqrt(n)`, verificamos se `i * i <= n` ao invés de calcular a raiz quadrada explicitamente para evitar cálculos extras.\n",
    "\n",
    "<font color=green>**Exemplo prático:**</font>\n",
    "\n",
    "Vamos dizer que estamos verificando se 37 é primo.\n",
    "\n",
    "- A raiz quadrada de 37 é aproximadamente 6,08.\n",
    "- No loop, começamos a testar divisores a partir de 2 e verificamos até 6.\n",
    "- Se não encontrarmos nenhum divisor até 6, podemos concluir que 37 é primo, porque se 37 tivesse um divisor maior que 6, ele teria um par divisor menor que 6, que já teria sido encontrado.\n",
    "\n",
    "Essa técnica permite que você reduza drasticamente o número de verificações necessárias para determinar se um número é primo, especialmente quando `n` é grande."
   ]
  }
 ],
 "metadata": {
  "language_info": {
   "name": "python"
  }
 },
 "nbformat": 4,
 "nbformat_minor": 5
}
