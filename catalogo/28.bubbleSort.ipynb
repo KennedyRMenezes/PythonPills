{
 "cells": [
  {
   "cell_type": "code",
   "execution_count": null,
   "id": "b798cdec",
   "metadata": {},
   "outputs": [
    {
     "name": "stdout",
     "output_type": "stream",
     "text": [
      "[-5, 1, 2, 5, 7, 9, 11, 19, 32]\n"
     ]
    }
   ],
   "source": [
    "def bubble_sort(lista: list) -> list:\n",
    "\n",
    "    for _ in range(len(lista)):\n",
    "        for index in range(len(lista)):\n",
    "\n",
    "            if index == len(lista)-1:\n",
    "                break\n",
    "\n",
    "            if lista[index] > lista[index+1]:\n",
    "                temp = lista[index]\n",
    "                lista[index] = lista[index+1]\n",
    "                lista[index+1] = temp\n",
    "            else:\n",
    "                continue\n",
    "    \n",
    "    return lista\n",
    "\n",
    "\n",
    "list_bubble = [1,9,5,2,32,11,-5,7,19]\n",
    "sort_list_bubble = bubble_sort(list_bubble)\n",
    "print(sort_list_bubble)\n"
   ]
  }
 ],
 "metadata": {
  "language_info": {
   "name": "python"
  }
 },
 "nbformat": 4,
 "nbformat_minor": 5
}
