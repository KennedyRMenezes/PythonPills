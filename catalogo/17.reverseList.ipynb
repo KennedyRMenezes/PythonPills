{
 "cells": [
  {
   "cell_type": "code",
   "execution_count": null,
   "id": "5f3c5551",
   "metadata": {},
   "outputs": [
    {
     "name": "stdout",
     "output_type": "stream",
     "text": [
      "9 8 67 5 4 2 1 \n",
      "9 8 67 5 4 2 1 "
     ]
    }
   ],
   "source": [
    "list_rev = [1,2,4,5,67,8,9]\n",
    "\n",
    "for l in list_rev[-1::-1]:\n",
    "    print(l, end=\" \")\n",
    "\n",
    "print()\n",
    "\n",
    "list_rev = reversed(list_rev)\n",
    "for l in list_rev:\n",
    "    print(l, end=\" \")"
   ]
  }
 ],
 "metadata": {
  "language_info": {
   "name": "python"
  }
 },
 "nbformat": 4,
 "nbformat_minor": 5
}
