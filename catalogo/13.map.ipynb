{
 "cells": [
  {
   "cell_type": "code",
   "execution_count": null,
   "id": "cd6893e2",
   "metadata": {},
   "outputs": [
    {
     "name": "stdout",
     "output_type": "stream",
     "text": [
      "[1, 16, 49, 144, 2916, 1849]\n"
     ]
    }
   ],
   "source": [
    "def power_two(n):\n",
    "    return n ** 2\n",
    "\n",
    "numbers = [1, 4, 7, 12, 54, 43]\n",
    "num_after_pow = list(map(power_two, numbers))\n",
    "print(num_after_pow)"
   ]
  }
 ],
 "metadata": {
  "language_info": {
   "name": "python"
  }
 },
 "nbformat": 4,
 "nbformat_minor": 5
}
