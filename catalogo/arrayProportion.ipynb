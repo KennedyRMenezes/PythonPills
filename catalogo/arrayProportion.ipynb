{
 "cells": [
  {
   "cell_type": "markdown",
   "id": "5a1dc413",
   "metadata": {},
   "source": [
    "Proportion of array"
   ]
  },
  {
   "cell_type": "code",
   "execution_count": null,
   "id": "79496376",
   "metadata": {},
   "outputs": [
    {
     "name": "stdout",
     "output_type": "stream",
     "text": [
      "0.5\n",
      "0.333333\n",
      "0.166667\n"
     ]
    }
   ],
   "source": [
    "def plusMinus(arr):\n",
    "    \n",
    "    countPosNegZero = [\n",
    "      sum(1 for x in arr if x > 0),\n",
    "      sum(1 for x in arr if x < 0),\n",
    "      sum(1 for x in arr if x == 0)\n",
    "    ]\n",
    "\n",
    "    for i in countPosNegZero:\n",
    "        print((round((i/len(arr)), 6)))\n",
    "\n",
    "if __name__ == '__main__':\n",
    "\n",
    "    arr = [-4, 3, -9, 0, 4, 1]\n",
    "\n",
    "    plusMinus(arr)"
   ]
  }
 ],
 "metadata": {
  "language_info": {
   "name": "python"
  }
 },
 "nbformat": 4,
 "nbformat_minor": 5
}
