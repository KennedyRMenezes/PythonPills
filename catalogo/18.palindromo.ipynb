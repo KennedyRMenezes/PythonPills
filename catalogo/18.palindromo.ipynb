{
 "cells": [
  {
   "cell_type": "code",
   "execution_count": null,
   "id": "13904e6b",
   "metadata": {},
   "outputs": [
    {
     "name": "stdout",
     "output_type": "stream",
     "text": [
      "True\n",
      "False\n",
      "True\n",
      "0.00030994415283203125\n"
     ]
    }
   ],
   "source": [
    "def acha_palindromo(palavra: str) -> str:\n",
    "\n",
    "\n",
    "    palavra = palavra.lower().strip()\n",
    "\n",
    "    if len(palavra) % 2 == 0:\n",
    "        return False\n",
    "\n",
    "    i = 0\n",
    "    j = -1\n",
    "\n",
    "    for _ in palavra:\n",
    "        if palavra[i] != palavra[j]:\n",
    "            return False\n",
    "        i += 1\n",
    "        j -= 1\n",
    "\n",
    "    return True\n",
    "\n",
    "print(acha_palindromo(\"    RotaTor     \"))\n",
    "print(acha_palindromo(\"EU\"))\n",
    "print(acha_palindromo(\"MoM\"))"
   ]
  }
 ],
 "metadata": {
  "language_info": {
   "name": "python"
  }
 },
 "nbformat": 4,
 "nbformat_minor": 5
}
